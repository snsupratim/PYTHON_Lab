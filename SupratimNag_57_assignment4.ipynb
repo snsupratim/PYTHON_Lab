{
 "cells": [
  {
   "cell_type": "markdown",
   "metadata": {},
   "source": [
    "SUPRATIM NAG_57_ASSIGNMENT4"
   ]
  },
  {
   "cell_type": "markdown",
   "metadata": {},
   "source": [
    "A. Automorphic Number"
   ]
  },
  {
   "cell_type": "code",
   "execution_count": 1,
   "metadata": {},
   "outputs": [
    {
     "name": "stdout",
     "output_type": "stream",
     "text": [
      "76 is automophic\n"
     ]
    }
   ],
   "source": [
    "num=int(input(\"enter a number= \"))\n",
    "#digits=len(str(num))\n",
    "temp=num\n",
    "count=0\n",
    "while (temp%10):\n",
    "    count=count+1\n",
    "    temp//=10    \n",
    "\n",
    "square=num**2\n",
    "\n",
    "last_digits=square%(10**count)\n",
    "\n",
    "if last_digits==num:\n",
    "    print(\"{} is automophic\".format(num))\n",
    "else:\n",
    "    print(\"{} is not an automorphic\".format(num))"
   ]
  },
  {
   "cell_type": "markdown",
   "metadata": {},
   "source": [
    "B. Krishnamurthy number"
   ]
  },
  {
   "cell_type": "code",
   "execution_count": 2,
   "metadata": {},
   "outputs": [
    {
     "name": "stdout",
     "output_type": "stream",
     "text": [
      "145 is krishnammurthy \n"
     ]
    }
   ],
   "source": [
    "num=int(input(\"enter a number= \"))\n",
    "temp=num\n",
    "sum=0\n",
    "while (temp>0):\n",
    "    fact=1\n",
    "    remainder=temp%10\n",
    "    for i in range(1,remainder+1):\n",
    "        fact *=i\n",
    "    sum=sum+fact\n",
    "    temp=temp//10\n",
    "if sum==num:\n",
    "    print(\"{} is krishnammurthy \".format(num))\n",
    "else:\n",
    "    print(\"{} is not krishnamurthy\".format(num))"
   ]
  },
  {
   "cell_type": "markdown",
   "metadata": {},
   "source": [
    "C. Programs to print three different patterns\n"
   ]
  },
  {
   "cell_type": "markdown",
   "metadata": {},
   "source": [
    "Pattern1:"
   ]
  },
  {
   "cell_type": "code",
   "execution_count": 4,
   "metadata": {},
   "outputs": [
    {
     "name": "stdout",
     "output_type": "stream",
     "text": [
      "5 4 3 2 1 \n",
      "4 3 2 1 \n",
      "3 2 1 \n",
      "2 1 \n",
      "1 \n"
     ]
    }
   ],
   "source": [
    "num=int(input(\"enter rows number= \"))\n",
    "rows=num\n",
    "for i in range(rows,0,-1):\n",
    "    for j in range (i,0,-1):\n",
    "        print(j, end=\" \")\n",
    "    print()"
   ]
  },
  {
   "cell_type": "markdown",
   "metadata": {},
   "source": [
    "Pattern2:"
   ]
  },
  {
   "cell_type": "code",
   "execution_count": 5,
   "metadata": {},
   "outputs": [
    {
     "name": "stdout",
     "output_type": "stream",
     "text": [
      "* \n",
      "* * \n",
      "* * * \n",
      "* * \n",
      "* \n"
     ]
    }
   ],
   "source": [
    "n = 3\n",
    "for i in range(1, n + 1):\n",
    "    print('* ' * i)\n",
    "for i in range(n - 1, 0, -1):\n",
    "    print('* ' * i)"
   ]
  },
  {
   "cell_type": "markdown",
   "metadata": {},
   "source": [
    "Pattern3:"
   ]
  },
  {
   "cell_type": "code",
   "execution_count": 1,
   "metadata": {},
   "outputs": [
    {
     "name": "stdout",
     "output_type": "stream",
     "text": [
      "A B C D E D C B A \n",
      "A B C D   D C B A \n",
      "A B C       C B A \n",
      "A B           B A \n",
      "A               A \n"
     ]
    }
   ],
   "source": [
    "\n",
    "n = int(input(\"Enter the number of rows: \"))\n",
    "y= n\n",
    "d=0\n",
    "for i in range(n,0,-1):\n",
    "    for j in range(1,y,+1):\n",
    "        print(chr(ord('A') + j - 1), end=\" \")\n",
    "        if (y-1)==i:\n",
    "            y=i\n",
    "    for s in range(0,(2*d-1),+1):\n",
    "        print(\" \",end=\" \")\n",
    "    d+=1\n",
    "    m=i-1\n",
    "    for k in range(0,i):\n",
    "        print(chr(ord('A') + m),end=\" \")\n",
    "        m-=1\n",
    "    print()    \n"
   ]
  }
 ],
 "metadata": {
  "kernelspec": {
   "display_name": "Python 3",
   "language": "python",
   "name": "python3"
  },
  "language_info": {
   "codemirror_mode": {
    "name": "ipython",
    "version": 3
   },
   "file_extension": ".py",
   "mimetype": "text/x-python",
   "name": "python",
   "nbconvert_exporter": "python",
   "pygments_lexer": "ipython3",
   "version": "3.11.3"
  },
  "orig_nbformat": 4
 },
 "nbformat": 4,
 "nbformat_minor": 2
}

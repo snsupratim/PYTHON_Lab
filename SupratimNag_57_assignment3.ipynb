{
 "cells": [
  {
   "cell_type": "markdown",
   "metadata": {},
   "source": [
    "SUPRATIM NAG_57_ASSIGNMENT3"
   ]
  },
  {
   "cell_type": "markdown",
   "metadata": {},
   "source": [
    "\n",
    "A. Write a python program to find the LCM and GCD of two numbers, taken as user input."
   ]
  },
  {
   "cell_type": "code",
   "execution_count": 4,
   "metadata": {},
   "outputs": [
    {
     "name": "stdout",
     "output_type": "stream",
     "text": [
      "gcd of 12 & 6 is 6\n",
      "lcm of 12 & 6 is 12.0\n"
     ]
    }
   ],
   "source": [
    "n1=int(input(\"enter a number=\"))\n",
    "n2=int(input(\"enter a number =\"))\n",
    "\n",
    "x=n1\n",
    "y=n2\n",
    "while(n2!=0):\n",
    "    t=n2\n",
    "    n2=n1%n2\n",
    "    n1=t\n",
    "gcd=n1\n",
    "print(\"gcd of {} & {} is {}\".format(x,y,gcd))\n",
    "lcm=(x*y)/gcd\n",
    "print(\"lcm of {} & {} is {}\".format(x,y,lcm))"
   ]
  },
  {
   "cell_type": "markdown",
   "metadata": {},
   "source": [
    "B. Write a python to generate Fibonacci Series up-to n-terms using loop"
   ]
  },
  {
   "cell_type": "code",
   "execution_count": 5,
   "metadata": {},
   "outputs": [
    {
     "name": "stdout",
     "output_type": "stream",
     "text": [
      "the fibonacci series is : \n",
      "0\n",
      "1\n",
      "1\n",
      "2\n",
      "3\n"
     ]
    }
   ],
   "source": [
    "nterms=int(input(\"enter the terms = \"))\n",
    "print(\"the fibonacci series is : \")\n",
    "\n",
    "n1,n2=0,1\n",
    "count=0\n",
    "\n",
    "while count<nterms:\n",
    "    print(n1)\n",
    "    nth=n1+n2\n",
    "    n1=n2\n",
    "    n2=nth\n",
    "    count+=1 "
   ]
  },
  {
   "cell_type": "markdown",
   "metadata": {},
   "source": [
    "C. Write a python program to generate all Prime Numbers within a range, where range is user input."
   ]
  },
  {
   "cell_type": "code",
   "execution_count": 6,
   "metadata": {},
   "outputs": [
    {
     "name": "stdout",
     "output_type": "stream",
     "text": [
      "2\n",
      "3\n",
      "5\n"
     ]
    }
   ],
   "source": [
    "nterms=int(input(\"enter a range = \"))\n",
    "\n",
    "for i in range(1,nterms):\n",
    "    if i>1:\n",
    "        for j in range(2,i):\n",
    "            if (i%j)==0:\n",
    "                break\n",
    "        else:\n",
    "            print(i)  \n"
   ]
  },
  {
   "cell_type": "markdown",
   "metadata": {},
   "source": [
    "D. Write a python program to reverse a number and check whether it is a Palindrome"
   ]
  },
  {
   "cell_type": "code",
   "execution_count": 8,
   "metadata": {},
   "outputs": [
    {
     "name": "stdout",
     "output_type": "stream",
     "text": [
      "151 is pallindrome\n"
     ]
    }
   ],
   "source": [
    "\n",
    "n=int(input(\"enter the number = \"))\n",
    "temp=n\n",
    "rev=0\n",
    "while (temp>0):\n",
    "    dig=temp%10\n",
    "    rev=rev*10+dig\n",
    "    temp=temp//10\n",
    "if(rev==n):\n",
    "    print(\"{} is pallindrome\".format(n))\n",
    "else:\n",
    "    print(\"{} is not pallindrome\".format(n))"
   ]
  },
  {
   "cell_type": "markdown",
   "metadata": {},
   "source": [
    "E. Write a python program to check whether a number is Armstrong number or not"
   ]
  },
  {
   "cell_type": "code",
   "execution_count": 10,
   "metadata": {},
   "outputs": [
    {
     "name": "stdout",
     "output_type": "stream",
     "text": [
      "153 is armstrong\n"
     ]
    }
   ],
   "source": [
    "n=int(input(\"enter the number = \"))\n",
    "temp=n\n",
    "count=0\n",
    "sum=0\n",
    "while (temp%10):\n",
    "    count=count+1\n",
    "    temp//=10\n",
    "temp=n    \n",
    "while (temp>0):\n",
    "    digit=temp%10\n",
    "    sum=sum+digit**count\n",
    "    temp//= 10    \n",
    "if(sum==n):\n",
    "    print(\"{} is armstrong\".format(n))\n",
    "else:\n",
    "    print(\"{} is not armstrong\".format(n))"
   ]
  },
  {
   "cell_type": "markdown",
   "metadata": {},
   "source": [
    "F. Write a python program to find the sum of digits of a n-digit number."
   ]
  },
  {
   "cell_type": "code",
   "execution_count": 20,
   "metadata": {},
   "outputs": [
    {
     "name": "stdout",
     "output_type": "stream",
     "text": [
      "sum of 456 is 15\n"
     ]
    }
   ],
   "source": [
    "number=int(input(\"enter a number = \"))\n",
    "sum=0\n",
    "n=number\n",
    "while n>1:\n",
    "    digit=n%10\n",
    "    sum += digit\n",
    "    n //=10\n",
    "print(\"sum of {} is {}\".format(number,sum))   "
   ]
  }
 ],
 "metadata": {
  "kernelspec": {
   "display_name": "Python 3",
   "language": "python",
   "name": "python3"
  },
  "language_info": {
   "codemirror_mode": {
    "name": "ipython",
    "version": 3
   },
   "file_extension": ".py",
   "mimetype": "text/x-python",
   "name": "python",
   "nbconvert_exporter": "python",
   "pygments_lexer": "ipython3",
   "version": "3.11.3"
  },
  "orig_nbformat": 4
 },
 "nbformat": 4,
 "nbformat_minor": 2
}

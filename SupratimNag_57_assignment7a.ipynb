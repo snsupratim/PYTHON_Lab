{
 "cells": [
  {
   "cell_type": "markdown",
   "metadata": {},
   "source": [
    "Assignment 7A: Concept of User Defined Functions"
   ]
  },
  {
   "cell_type": "markdown",
   "metadata": {},
   "source": [
    "A.  Write a function\n",
    "that checks whether a number is in a given range (inclusive of high and low)."
   ]
  },
  {
   "cell_type": "code",
   "execution_count": 1,
   "metadata": {},
   "outputs": [
    {
     "name": "stdout",
     "output_type": "stream",
     "text": [
      "6 is in the range [2, 17]\n"
     ]
    }
   ],
   "source": [
    "def is_in_range(number, low, high):\n",
    "    \n",
    "    return low <= number <= high\n",
    "\n",
    "# Example usage:\n",
    "number_to_check = int(input(\"enter a number to check:\"))\n",
    "low_range = int(input(\"enter the low bound:\"))\n",
    "high_range = int(input(\"enter the high bound:\"))\n",
    "\n",
    "\n",
    "if is_in_range(number_to_check, low_range, high_range):\n",
    "    print(f\"{number_to_check} is in the range [{low_range}, {high_range}]\")\n",
    "else:\n",
    "    print(f\"{number_to_check} is not in the range [{low_range}, {high_range}]\")\n"
   ]
  },
  {
   "cell_type": "markdown",
   "metadata": {},
   "source": [
    "Supratim Nag_AIML_Roll 057"
   ]
  },
  {
   "cell_type": "markdown",
   "metadata": {},
   "source": [
    "B. Write a Python function that accepts a string and calculates the number of upper case letters\n",
    "and lower case letters.\n",
    "\n",
    "Sample String:\n",
    "'Hello Mr. Rogers, how are you this fine Tuesday?'\n",
    "\n",
    "Expected\n",
    "Output:              \n",
    " No. of Upper case characters : 4\n",
    " No. of Lower case Characters : 33"
   ]
  },
  {
   "cell_type": "code",
   "execution_count": 4,
   "metadata": {},
   "outputs": [
    {
     "name": "stdout",
     "output_type": "stream",
     "text": [
      "No. of Upper case characters: 4\n",
      "No. of Lower case Characters: 33\n"
     ]
    }
   ],
   "source": [
    "def count_case_characters(input_string):\n",
    "\n",
    "    upper_count = 0\n",
    "    lower_count = 0\n",
    "\n",
    "    for char in input_string:\n",
    "        if char.isupper():\n",
    "            upper_count += 1\n",
    "        elif char.islower():\n",
    "            lower_count += 1\n",
    "\n",
    "    return upper_count, lower_count\n",
    "\n",
    "# Sample string\n",
    "sample_string = 'Hello Mr. Rogers, how are you this fine Tuesday?'\n",
    "\n",
    "# Call the function and get the results\n",
    "upper_count, lower_count = count_case_characters(sample_string)\n",
    "\n",
    "# Output the results\n",
    "print(f\"No. of Upper case characters: {upper_count}\")\n",
    "print(f\"No. of Lower case Characters: {lower_count}\")\n"
   ]
  },
  {
   "cell_type": "markdown",
   "metadata": {},
   "source": [
    "Supratim Nag_AIML_Roll 057"
   ]
  },
  {
   "cell_type": "markdown",
   "metadata": {},
   "source": [
    "C. Write a user define Python Program to check whether a positive number is as SUM of SQUAREs or NOT.\n",
    "A positive integer m is a sum of squares if it can be written as k + l where k\n",
    "> 0, l > 0 and both k and l are perfect squares.\n",
    "\n",
    "Here are some examples to show how your function should work:\n",
    "\n",
    "                                      sumofsquares(25) =  25 is a SUM of SQUAREs,                                      \n",
    "                                      sumofsquares(36) =  36 is NOT a SUM of SQUAREs,                                      \n",
    "                                      sumofsquares(225) =  225 is a SUM of SQUAREs"
   ]
  },
  {
   "cell_type": "code",
   "execution_count": 5,
   "metadata": {},
   "outputs": [
    {
     "name": "stdout",
     "output_type": "stream",
     "text": [
      "25 is a SUM of SQUAREs (k=9, l=16)\n",
      "36 is NOT a SUM of SQUAREs\n",
      "225 is a SUM of SQUAREs (k=81, l=144)\n"
     ]
    }
   ],
   "source": [
    "def is_perfect_square(num):\n",
    "    # Helper function to check if a number is a perfect square\n",
    "    return num == int(num**0.5 + 0.5)**2\n",
    "\n",
    "def sum_of_squares(n):\n",
    "    for k in range(1, n):\n",
    "        l = n - k\n",
    "        if is_perfect_square(k) and is_perfect_square(l):\n",
    "            return f\"{n} is a SUM of SQUAREs (k={k}, l={l})\"\n",
    "    return f\"{n} is NOT a SUM of SQUAREs\"\n",
    "\n",
    "# Examples\n",
    "print(sum_of_squares(25))  # Output: 25 is a SUM of SQUAREs (k=0, l=25)\n",
    "print(sum_of_squares(36))  # Output: 36 is NOT a SUM of SQUAREs\n",
    "print(sum_of_squares(225)) # Output: 225 is a SUM of SQUAREs (k=100, l=125)\n"
   ]
  },
  {
   "cell_type": "markdown",
   "metadata": {},
   "source": [
    "Supratim Nag_AIML_Roll 057"
   ]
  },
  {
   "cell_type": "markdown",
   "metadata": {},
   "source": [
    "D. Write a Python user define function rotatelist(l,k) that takes a list l and a positive integer k and returns the list l after k rotations. If k is not positive, your function should return l unchanged. Note that your function should not change itself, and should return the rotated list. A list rotation consists of taking the last element and moving it to the front. For instance, if we rotate the list\n",
    "[1,2,3,4,5], we get [5,1,2,3,4]. If we rotate it again, we get [4,5,1,2,3].\n",
    "\n",
    "Here is an examples to show how your function should work:\n",
    "\n",
    "Input:     rotatelist([1,2,3,4,5],3)\n",
    "Output:  [3, 4, 5, 1, 2]"
   ]
  },
  {
   "cell_type": "code",
   "execution_count": 6,
   "metadata": {},
   "outputs": [
    {
     "name": "stdout",
     "output_type": "stream",
     "text": [
      "[3, 4, 5, 1, 2]\n"
     ]
    }
   ],
   "source": [
    "def rotatelist(lst, k):\n",
    "    if k <= 0:\n",
    "        return lst\n",
    "    else:\n",
    "        k = k % len(lst)  \n",
    "        return lst[-k:] + lst[:-k]\n",
    "\n",
    "# Example :\n",
    "original_list = [1, 2, 3, 4, 5]\n",
    "k = 3\n",
    "rotated_list = rotatelist(original_list, k)\n",
    "\n",
    "print(rotated_list)\n"
   ]
  },
  {
   "cell_type": "markdown",
   "metadata": {},
   "source": [
    "Supratim Nag_AIML_Roll 057"
   ]
  },
  {
   "cell_type": "markdown",
   "metadata": {},
   "source": [
    "E. Write a Python function that checks whether a word or phrase is palindrome or not.\n",
    "\n",
    "Note: A palindrome is word, phrase, or sequence that reads the same backward as forward, e.g., madam, kayak, racecar, or a phrase \"nurses run\"."
   ]
  },
  {
   "cell_type": "code",
   "execution_count": 7,
   "metadata": {},
   "outputs": [
    {
     "name": "stdout",
     "output_type": "stream",
     "text": [
      "\"nurses run\" is a palindrome.\n"
     ]
    }
   ],
   "source": [
    "def is_palindrome(text):\n",
    "   \n",
    "    cleaned_text = ''.join(text.split()).lower()\n",
    "\n",
    "    return cleaned_text == cleaned_text[::-1]\n",
    "\n",
    "# Example :\n",
    "word_or_phrase = \"nurses run\"\n",
    "if is_palindrome(word_or_phrase):\n",
    "    print(f'\"{word_or_phrase}\" is a palindrome.')\n",
    "else:\n",
    "    print(f'\"{word_or_phrase}\" is not a palindrome.')\n"
   ]
  },
  {
   "cell_type": "markdown",
   "metadata": {},
   "source": [
    "Supratim Nag_AIML_Roll 057"
   ]
  },
  {
   "cell_type": "markdown",
   "metadata": {},
   "source": [
    "\n",
    "F.      Write a Python function to check whether a string is pangram or not. (Assume the string passed\n",
    "in does not have any punctuation).\n",
    "\n",
    "\n",
    "Note : Pangrams are words or sentences containing every letter of the alphabet at least once.\n",
    "\n",
    "\n",
    "For example :\n",
    "\"The quick brown fox jumps over the lazy dog\"\n",
    "\n",
    "\n",
    "Hint: You may want to use .replace() method to get rid of spaces.\n"
   ]
  },
  {
   "cell_type": "code",
   "execution_count": 8,
   "metadata": {},
   "outputs": [
    {
     "name": "stdout",
     "output_type": "stream",
     "text": [
      "\"The quick brown fox jumps over the lazy dog\" is a pangram.\n"
     ]
    }
   ],
   "source": [
    "def is_pangram(text):\n",
    "    \n",
    "    cleaned_text = ''.join(text.split()).lower()\n",
    "    \n",
    "    unique_chars = set(cleaned_text)\n",
    "    \n",
    "    return len(unique_chars) == 26\n",
    "\n",
    "# Example :\n",
    "sentence = \"The quick brown fox jumps over the lazy dog\"\n",
    "if is_pangram(sentence):\n",
    "    print(f'\"{sentence}\" is a pangram.')\n",
    "else:\n",
    "    print(f'\"{sentence}\" is not a pangram.')\n"
   ]
  },
  {
   "cell_type": "markdown",
   "metadata": {},
   "source": [
    "Supratim Nag_AIML_Roll 057"
   ]
  },
  {
   "cell_type": "markdown",
   "metadata": {},
   "source": [
    "\n",
    "G.     Two strings, s1 and s2 are given to you. Write a Python function to create a new string by appending s2 in the middle of s1."
   ]
  },
  {
   "cell_type": "code",
   "execution_count": 9,
   "metadata": {},
   "outputs": [
    {
     "name": "stdout",
     "output_type": "stream",
     "text": [
      "Helworld!lo, \n"
     ]
    }
   ],
   "source": [
    "def append_middle(s1, s2):\n",
    "    \n",
    "    middle = len(s1) // 2\n",
    "    \n",
    "    \n",
    "    result = s1[:middle] + s2 + s1[middle:]\n",
    "    \n",
    "    return result\n",
    "\n",
    "# Example :\n",
    "s1 = \"Hello, \"\n",
    "s2 = \"world!\"\n",
    "\n",
    "new_string = append_middle(s1, s2)\n",
    "print(new_string)\n",
    "\n"
   ]
  },
  {
   "cell_type": "markdown",
   "metadata": {},
   "source": [
    "Supratim Nag_AIML_Roll 057"
   ]
  }
 ],
 "metadata": {
  "kernelspec": {
   "display_name": "Python 3",
   "language": "python",
   "name": "python3"
  },
  "language_info": {
   "codemirror_mode": {
    "name": "ipython",
    "version": 3
   },
   "file_extension": ".py",
   "mimetype": "text/x-python",
   "name": "python",
   "nbconvert_exporter": "python",
   "pygments_lexer": "ipython3",
   "version": "3.11.3"
  }
 },
 "nbformat": 4,
 "nbformat_minor": 2
}

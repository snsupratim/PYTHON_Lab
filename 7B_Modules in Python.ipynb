{
 "cells": [
  {
   "cell_type": "markdown",
   "id": "688ac876",
   "metadata": {},
   "source": [
    "# Modules\n",
    "If you quit from the Python interpreter and enter it again, the definitions you have made (functions and variables) are lost. Therefore, if you want to write a somewhat longer program, you are better off using a text editor to prepare the input for the interpreter and running it with that file as input instead. This is known as creating a script. As your program gets longer, you may want to split it into several files for easier maintenance. You may also want to use a handy function that you’ve written in several programs without copying its definition into each program.\n",
    "\n",
    "To support this, Python has a way to put definitions in a file and use them in a script or in an interactive instance of the interpreter. Such a file is called a module; definitions from a module can be imported into other modules or into the main module (the collection of variables that you have access to in a script executed at the top level and in calculator mode).\n",
    "\n",
    "A module is a file containing Python definitions and statements. The file name is the module name with the suffix .py appended. Within a module, the module’s name (as a string) is available as the value of the global variable __name__. For instance, use your favorite text editor to create a file called fibo.py in the current directory with the following contents:\n"
   ]
  },
  {
   "cell_type": "code",
   "execution_count": 5,
   "id": "a70d134c",
   "metadata": {},
   "outputs": [],
   "source": [
    "import fibon"
   ]
  },
  {
   "cell_type": "code",
   "execution_count": 12,
   "id": "f1640fbe",
   "metadata": {},
   "outputs": [
    {
     "data": {
      "text/plain": [
       "[0, 1, 1, 2, 3, 5, 8, 13, 21]"
      ]
     },
     "execution_count": 12,
     "metadata": {},
     "output_type": "execute_result"
    }
   ],
   "source": [
    "fibon.fib2(25)"
   ]
  },
  {
   "cell_type": "code",
   "execution_count": 13,
   "id": "935c34b1",
   "metadata": {},
   "outputs": [
    {
     "name": "stdout",
     "output_type": "stream",
     "text": [
      "0 1 1 2 3 5 8 13 21 34 55 89 144 233 377 \n"
     ]
    }
   ],
   "source": [
    "fib11 = fibon.fib\n",
    "fib11(500)"
   ]
  },
  {
   "cell_type": "markdown",
   "id": "3b027ba7",
   "metadata": {},
   "source": [
    "# More on Modules\n",
    "\n",
    "# A module can contain executable statements as well as function definitions. \n",
    "\n",
    "# These statements are intended to initialize the module. \n",
    "\n",
    "# They are executed only the first time the module name is encountered in an import statement. \n",
    "\n",
    "# (They are also run if the file is executed as a script.)\n",
    "\n",
    "# Each module has its own private namespace, which is used as the global namespace by all functions defined in the module. \n",
    "\n",
    "# Thus, the author of a module can use global variables in the module without worrying about accidental clashes with a user’s global variables. On the other hand, if you know what you are doing you can touch a module’s global variables with the same notation used to refer to its functions, modname.itemname.\n",
    "\n",
    "# Modules can import other modules. \n",
    "\n",
    "# It is customary but not required to place all import statements at the beginning of a module (or script, for that matter). \n",
    "\n",
    "# The imported module names, if placed at the top level of a module (outside any functions or classes), \n",
    "# are added to the module’s global namespace.\n",
    "\n",
    "# There is a variant of the import statement that imports names from a module directly into the importing module’s namespace.\n",
    "\n",
    "# For example:\n",
    "\n",
    "\n",
    "# from fibo import fib, fib2\n",
    "\n",
    "# fib(500)\n",
    "\n",
    "# 0 1 1 2 3 5 8 13 21 34 55 89 144 233 377\n",
    "\n",
    "# This does not introduce the module name from which the imports are taken in the local namespace \n",
    "\n",
    "# (so in the example, fibo is not defined).\n",
    "\n",
    " \n",
    "# There is even a variant to import all names that a module defines:\n",
    "\n",
    "\n",
    "# from fibo import *\n",
    "\n",
    "# fib(500)\n",
    "\n",
    "# 0 1 1 2 3 5 8 13 21 34 55 89 144 233 377\n",
    "\n",
    "# This imports all names except those beginning with an underscore (_). \n",
    "\n",
    "# In most cases Python programmers do not use this facility since it introduces an unknown set of names into the interpreter, \n",
    "\n",
    "# possibly hiding some things you have already defined.\n",
    "\n",
    "# Note that in general the practice of importing * from a module or package is frowned upon, \n",
    "\n",
    "# since it often causes poorly readable code. However, it is okay to use it to save typing in interactive sessions.\n",
    "\n",
    "# If the module name is followed by as, then the name following as is bound directly to the imported module.\n",
    "\n",
    "\n",
    "# import fibo as fib\n",
    "\n",
    "# fib.fib(500)\n",
    "\n",
    "# 0 1 1 2 3 5 8 13 21 34 55 89 144 233 377\n",
    "\n",
    "# This is effectively importing the module in the same way that import fibo will do, with the only difference of it \n",
    "\n",
    "# being available as fib.\n",
    "\n",
    "# It can also be used when utilising from with similar effects:\n",
    "\n",
    "# from fibo import fib as fibonacci\n",
    "\n",
    "# fibonacci(500)\n",
    "\n",
    "# 0 1 1 2 3 5 8 13 21 34 55 89 144 233 377\n",
    "\n",
    "# Note For efficiency reasons, each module is only imported once per interpreter session. \n",
    "\n",
    "# Therefore, if you change your modules, you must restart the interpreter – or, \n",
    "\n",
    "# if it’s just one module you want to test interactively, \n",
    "\n",
    "# use importlib.reload(), e.g. import importlib; importlib.reload(modulename)."
   ]
  },
  {
   "cell_type": "code",
   "execution_count": null,
   "id": "7f242b31",
   "metadata": {},
   "outputs": [],
   "source": [
    "from fibon import fib, fib2\n",
    "fib(500)"
   ]
  },
  {
   "cell_type": "code",
   "execution_count": 15,
   "id": "9e1fbb51",
   "metadata": {},
   "outputs": [
    {
     "name": "stdout",
     "output_type": "stream",
     "text": [
      "0 1 1 2 3 5 8 13 21 34 55 89 144 233 377 \n"
     ]
    }
   ],
   "source": [
    "from fibo import fib, fib2\n",
    "fib(500)"
   ]
  },
  {
   "cell_type": "code",
   "execution_count": 16,
   "id": "2f00adf4",
   "metadata": {},
   "outputs": [
    {
     "name": "stdout",
     "output_type": "stream",
     "text": [
      "0 1 1 2 3 5 8 13 21 34 55 89 144 233 377 \n"
     ]
    }
   ],
   "source": [
    "from fibo import *\n",
    "fib(500)"
   ]
  },
  {
   "cell_type": "code",
   "execution_count": 17,
   "id": "a549fa12",
   "metadata": {},
   "outputs": [
    {
     "name": "stdout",
     "output_type": "stream",
     "text": [
      "0 1 1 2 3 5 8 13 21 34 55 89 144 233 377 \n"
     ]
    }
   ],
   "source": [
    "import fibo as fib\n",
    "fib.fib(500)"
   ]
  },
  {
   "cell_type": "code",
   "execution_count": 18,
   "id": "c1d6f674",
   "metadata": {},
   "outputs": [
    {
     "name": "stdout",
     "output_type": "stream",
     "text": [
      "0 1 1 2 3 5 8 13 21 34 55 89 144 233 377 \n"
     ]
    }
   ],
   "source": [
    "from fibo import fib as fibonacci\n",
    "fibonacci(500)"
   ]
  },
  {
   "cell_type": "code",
   "execution_count": 19,
   "id": "2c8c9c6f",
   "metadata": {},
   "outputs": [],
   "source": [
    "import calc as cl"
   ]
  },
  {
   "cell_type": "code",
   "execution_count": 20,
   "id": "9cb89000",
   "metadata": {},
   "outputs": [
    {
     "data": {
      "text/plain": [
       "11"
      ]
     },
     "execution_count": 20,
     "metadata": {},
     "output_type": "execute_result"
    }
   ],
   "source": [
    "cl.add(5,6)"
   ]
  },
  {
   "cell_type": "code",
   "execution_count": 21,
   "id": "2d11fbbc",
   "metadata": {},
   "outputs": [
    {
     "data": {
      "text/plain": [
       "5"
      ]
     },
     "execution_count": 21,
     "metadata": {},
     "output_type": "execute_result"
    }
   ],
   "source": [
    "cl.subtract(7,2)"
   ]
  },
  {
   "cell_type": "code",
   "execution_count": 22,
   "id": "24a63af8",
   "metadata": {},
   "outputs": [
    {
     "name": "stdout",
     "output_type": "stream",
     "text": [
      "4.0\n",
      "720\n"
     ]
    }
   ],
   "source": [
    "# Python Import From Module\n",
    "# Python’s from statement lets you import specific attributes from a module without importing the module as a whole.\n",
    "\n",
    "# Import Specific Attributes from a Python module\n",
    "# Here, we are importing specific sqrt and factorial attributes from the math module.\n",
    "\n",
    "\n",
    "# importing sqrt() and factorial from the\n",
    "# module math\n",
    "from math import sqrt, factorial\n",
    " \n",
    "# if we simply do \"import math\", then\n",
    "# math.sqrt(16) and math.factorial()\n",
    "# are required.\n",
    "print(sqrt(16))\n",
    "print(factorial(6))"
   ]
  },
  {
   "cell_type": "code",
   "execution_count": 23,
   "id": "9bf129f8",
   "metadata": {},
   "outputs": [
    {
     "name": "stdout",
     "output_type": "stream",
     "text": [
      "4.0\n",
      "720\n"
     ]
    }
   ],
   "source": [
    "# What does import * do in Python\n",
    "# The use of * has its advantages and disadvantages. \n",
    "# If you know exactly what you will be needing from the module, it is not recommended to use *, else do so.\n",
    "\n",
    "\n",
    "# importing sqrt() and factorial from the\n",
    "# module math\n",
    "from math import *\n",
    " \n",
    "# if we simply do \"import math\", then\n",
    "# math.sqrt(16) and math.factorial()\n",
    "# are required.\n",
    "print(sqrt(16))\n",
    "print(factorial(6))"
   ]
  },
  {
   "cell_type": "code",
   "execution_count": 24,
   "id": "bd984517",
   "metadata": {},
   "outputs": [
    {
     "name": "stdout",
     "output_type": "stream",
     "text": [
      "['C:\\\\Users\\\\soham', 'C:\\\\Users\\\\soham\\\\anaconda3\\\\python38.zip', 'C:\\\\Users\\\\soham\\\\anaconda3\\\\DLLs', 'C:\\\\Users\\\\soham\\\\anaconda3\\\\lib', 'C:\\\\Users\\\\soham\\\\anaconda3', '', 'C:\\\\Users\\\\soham\\\\anaconda3\\\\lib\\\\site-packages', 'C:\\\\Users\\\\soham\\\\anaconda3\\\\lib\\\\site-packages\\\\locket-0.2.1-py3.8.egg', 'C:\\\\Users\\\\soham\\\\anaconda3\\\\lib\\\\site-packages\\\\win32', 'C:\\\\Users\\\\soham\\\\anaconda3\\\\lib\\\\site-packages\\\\win32\\\\lib', 'C:\\\\Users\\\\soham\\\\anaconda3\\\\lib\\\\site-packages\\\\Pythonwin', 'C:\\\\Users\\\\soham\\\\anaconda3\\\\lib\\\\site-packages\\\\IPython\\\\extensions', 'C:\\\\Users\\\\soham\\\\.ipython']\n"
     ]
    }
   ],
   "source": [
    "# Locating Python Modules\n",
    "#Whenever a module is imported in Python the interpreter looks for several locations. \n",
    "#First, it will check for the built-in module, if not found then it looks for a list of directories defined in the sys.path. \n",
    "#Python interpreter searches for the module in the following manner –\n",
    "\n",
    "#First, it searches for the module in the current directory.\n",
    "#If the module isn’t found in the current directory, Python then searches each directory in the shell variable PYTHONPATH. \n",
    "#The PYTHONPATH is an environment variable, consisting of a list of directories.\n",
    "#If that also fails python checks the installation-dependent list of directories configured at the time Python is installed.\n",
    "#Directories List for Modules\n",
    "#Here, sys.path is a built-in variable within the sys module.\n",
    "#It contains a list of directories that the interpreter will search for the required module.\n",
    "\n",
    "\n",
    "# importing sys module\n",
    "import sys\n",
    " \n",
    "# importing sys.path\n",
    "print(sys.path)"
   ]
  },
  {
   "cell_type": "code",
   "execution_count": 25,
   "id": "059f02b8",
   "metadata": {},
   "outputs": [
    {
     "name": "stdout",
     "output_type": "stream",
     "text": [
      "5.0\n",
      "3.141592653589793\n",
      "114.59155902616465\n",
      "1.0471975511965976\n",
      "0.9092974268256817\n",
      "0.8775825618903728\n",
      "0.23414336235146527\n",
      "24\n",
      "2\n",
      "0.38686470995725253\n",
      "68.41951080768685\n",
      "800\n",
      "1698640459.5975049\n",
      "1970-01-06\n"
     ]
    }
   ],
   "source": [
    "#Python Built-in modules\n",
    "#There are several built-in modules in Python, which you can import whenever you like.\n",
    "# importing built-in module math\n",
    "import math\n",
    "\n",
    "# using square root(sqrt) function contained \n",
    "# in math module\n",
    "print(math.sqrt(25)) \n",
    "\n",
    "# using pi function contained in math module\n",
    "print(math.pi) \n",
    "\n",
    "# 2 radians = 114.59 degrees\n",
    "print(math.degrees(2)) \n",
    "\n",
    "# 60 degrees = 1.04 radians\n",
    "print(math.radians(60)) \n",
    "\n",
    "# Sine of 2 radians\n",
    "print(math.sin(2)) \n",
    "\n",
    "# Cosine of 0.5 radians\n",
    "print(math.cos(0.5)) \n",
    "\n",
    "# Tangent of 0.23 radians\n",
    "print(math.tan(0.23)) \n",
    "\n",
    "# 1 * 2 * 3 * 4 = 24\n",
    "print(math.factorial(4)) \n",
    "\n",
    "# importing built in module random\n",
    "import random\n",
    "\n",
    "# printing random integer between 0 and 5\n",
    "print(random.randint(0, 5)) \n",
    "\n",
    "# print random floating point number between 0 and 1\n",
    "print(random.random()) \n",
    "\n",
    "# random number between 0 and 100\n",
    "print(random.random() * 100) \n",
    "\n",
    "List = [1, 4, True, 800, \"python\", 27, \"hello\"]\n",
    "\n",
    "# using choice function in random module for choosing \n",
    "# a random element from a set such as a list\n",
    "print(random.choice(List)) \n",
    "\n",
    "\n",
    "# importing built in module datetime\n",
    "import datetime\n",
    "from datetime import date\n",
    "import time\n",
    "\n",
    "# Returns the number of seconds since the\n",
    "# Unix Epoch, January 1st 1970\n",
    "print(time.time()) \n",
    "\n",
    "# Converts a number of seconds to a date object\n",
    "print(date.fromtimestamp(454554)) \n",
    "\n",
    "\n",
    "\n"
   ]
  },
  {
   "cell_type": "code",
   "execution_count": null,
   "id": "11a747cc",
   "metadata": {},
   "outputs": [],
   "source": []
  }
 ],
 "metadata": {
  "kernelspec": {
   "display_name": "Python 3",
   "language": "python",
   "name": "python3"
  },
  "language_info": {
   "codemirror_mode": {
    "name": "ipython",
    "version": 3
   },
   "file_extension": ".py",
   "mimetype": "text/x-python",
   "name": "python",
   "nbconvert_exporter": "python",
   "pygments_lexer": "ipython3",
   "version": "3.8.8"
  }
 },
 "nbformat": 4,
 "nbformat_minor": 5
}

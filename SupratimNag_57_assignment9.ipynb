{
 "cells": [
  {
   "cell_type": "markdown",
   "metadata": {},
   "source": [
    "## ASSIGNMENT 09/CONCEPT OF CLASS,OBJECT,METHODS,INHERITENCE"
   ]
  },
  {
   "cell_type": "markdown",
   "metadata": {},
   "source": [
    "A. Write a program to create a class Circle. Perform the following operations on it.\n",
    "i) Define the class attribute/variable shape, who value is \"Circle\".\n",
    "ii) Define the constructor with one argument containing radius.\n",
    "ії) Define the method named get_radius() which returns the radius of the circle.\n",
    "iv) Define the method named cals_area() which return the area of the circle\n",
    "v)  Define a class method named show shape(), which will show the shape attribute's value."
   ]
  },
  {
   "cell_type": "code",
   "execution_count": 5,
   "metadata": {},
   "outputs": [
    {
     "name": "stdout",
     "output_type": "stream",
     "text": [
      "radius of the circle : 5\n",
      "area of the circle: 78.53981633974483\n",
      "shape: Circle\n"
     ]
    }
   ],
   "source": [
    "import math\n",
    "class Circle:\n",
    "\n",
    "    shape=\"Circle\"\n",
    "\n",
    "    def __init__(self,radius):\n",
    "        self.radius=radius\n",
    "\n",
    "    def get_radius(self):\n",
    "        return self.radius\n",
    "\n",
    "    def calc_area(self):\n",
    "        area= math.pi*(self.radius)**2\n",
    "        return area\n",
    "\n",
    "    @classmethod \n",
    "    def show_shape(cls):\n",
    "        print(f\"shape: {cls.shape}\")\n",
    "\n",
    "\n",
    "radius_value=5\n",
    "circle_instane=Circle(radius_value)  \n",
    "\n",
    "print(f\"radius of the circle : {circle_instane.get_radius()}\")\n",
    "print(f\"area of the circle: {circle_instane.calc_area()}\")\n",
    "\n",
    "Circle.show_shape()\n",
    "                "
   ]
  },
  {
   "cell_type": "markdown",
   "metadata": {},
   "source": [
    "Supratim Nag_AIML_Roll 057"
   ]
  },
  {
   "cell_type": "markdown",
   "metadata": {},
   "source": [
    "B. Write a program to implement single inheritance\n",
    "i) Create the parent class Circle. Initialize the constructor with the radius of the circle.\n",
    "ii) Define the method get_radius() and calc_area() to know the radius and area of the circle.\n",
    "іii) Create the child class named Cylinder. Initialize the value of the height within the constructor and\n",
    "    call the constructor of the parent class to initialize the radius of the cylinder.\n",
    "iv) Finally define the method calc_area() in class cylinder to calculate the area of cylinder\n",
    "    (2*pi*r* (btz))."
   ]
  },
  {
   "cell_type": "code",
   "execution_count": 6,
   "metadata": {},
   "outputs": [
    {
     "name": "stdout",
     "output_type": "stream",
     "text": [
      "Radius of the circle (base of the cylinder): 5\n",
      "Area of the circle (base of the cylinder): 78.53981633974483\n",
      "Height of the cylinder: 10\n",
      "Surface area of the cylinder: 471.23889803846896\n"
     ]
    }
   ],
   "source": [
    "import math\n",
    "\n",
    "class Circle:\n",
    "    def __init__(self, radius):\n",
    "        self.radius = radius\n",
    "\n",
    "    def get_radius(self):\n",
    "        return self.radius\n",
    "\n",
    "    def calc_area(self):\n",
    "        return math.pi * self.radius**2\n",
    "\n",
    "class Cylinder(Circle):\n",
    "    def __init__(self, radius, height):\n",
    "        super().__init__(radius)\n",
    "        self.height = height\n",
    "\n",
    "    def calculate_cylinder_area(self):\n",
    "        # Surface area of a cylinder is the sum of the areas of its two circular bases and its lateral surface\n",
    "        circle_area = super().calculate_area()\n",
    "        lateral_surface_area = 2 * math.pi * self.radius * self.height\n",
    "        return 2 * circle_area + lateral_surface_area\n",
    "\n",
    "# Example usage:\n",
    "radius_value = 5\n",
    "height_value = 10\n",
    "\n",
    "cylinder_instance = Cylinder(radius_value, height_value)\n",
    "\n",
    "print(f\"Radius of the circle (base of the cylinder): {cylinder_instance.get_radius()}\")\n",
    "print(f\"Area of the circle (base of the cylinder): {cylinder_instance.calculate_area()}\")\n",
    "print(f\"Height of the cylinder: {cylinder_instance.height}\")\n",
    "print(f\"Surface area of the cylinder: {cylinder_instance.calculate_cylinder_area()}\")\n"
   ]
  },
  {
   "cell_type": "markdown",
   "metadata": {},
   "source": [
    "Supratim Nag_AIML_Roll 057"
   ]
  },
  {
   "cell_type": "markdown",
   "metadata": {},
   "source": [
    "C. Write a program to implement the concept of multilevel inheritance\n",
    "\n",
    "i) Create the parent class StLine. Initialize the constructor with length the straight line. \n",
    "ii) reate another class named Square which inherits the properties of parent class StLine. Initialize the side of the square by using the constructor of the parent class. Define the method calc_area() to return the area of the Square.\n",
    "iii) Create another class named Cube which inherits the properties of parent class Square. Define theattributes height of Cube class. Also call the constructor of the parent class for the edges of the cube.Define the method calc area() to return the area of the Cube.\n",
    "iv)Finally, create the instances of StLine, Square, and Cube classes to return the area of the of the respective classes"
   ]
  },
  {
   "cell_type": "code",
   "execution_count": 1,
   "metadata": {},
   "outputs": [
    {
     "name": "stdout",
     "output_type": "stream",
     "text": [
      "Length of the straight line: 5\n",
      "Side of the square: 4\n",
      "Area of the square: 16\n",
      "Height of the cube: 3\n",
      "Area of the cube: 80\n"
     ]
    }
   ],
   "source": [
    "class StLine:\n",
    "    def __init__(self, length):\n",
    "        self.length = length\n",
    "\n",
    "    def get_length(self):\n",
    "        return self.length\n",
    "\n",
    "\n",
    "class Square(StLine):\n",
    "    def __init__(self, side):\n",
    "        super().__init__(side)  # Calling the constructor of the parent class\n",
    "        self.side = side\n",
    "\n",
    "    def calc_area(self):\n",
    "        return self.side ** 2\n",
    "\n",
    "\n",
    "class Cube(Square):\n",
    "    def __init__(self, side, height):\n",
    "        super().__init__(side)  # Calling the constructor of the parent class (Square)\n",
    "        self.height = height\n",
    "\n",
    "    def calc_area(self):\n",
    "        square_area = super().calc_area()  # Calling the method of the parent class (Square)\n",
    "        lateral_surface_area = 4 * self.side * self.height\n",
    "        return 2 * square_area + lateral_surface_area\n",
    "\n",
    "\n",
    "# Example usage:\n",
    "length_value = 5\n",
    "side_value = 4\n",
    "height_value = 3\n",
    "\n",
    "straight_line_instance = StLine(length_value)\n",
    "square_instance = Square(side_value)\n",
    "cube_instance = Cube(side_value, height_value)\n",
    "\n",
    "print(f\"Length of the straight line: {straight_line_instance.get_length()}\")\n",
    "\n",
    "print(f\"Side of the square: {square_instance.side}\")\n",
    "print(f\"Area of the square: {square_instance.calc_area()}\")\n",
    "\n",
    "print(f\"Height of the cube: {cube_instance.height}\")\n",
    "print(f\"Area of the cube: {cube_instance.calc_area()}\")\n"
   ]
  },
  {
   "cell_type": "markdown",
   "metadata": {},
   "source": [
    "Supratim Nag_AIML_Roll 057\n"
   ]
  },
  {
   "cell_type": "markdown",
   "metadata": {},
   "source": [
    "D"
   ]
  },
  {
   "cell_type": "code",
   "execution_count": 11,
   "metadata": {},
   "outputs": [
    {
     "name": "stdout",
     "output_type": "stream",
     "text": [
      "Square Area: 25\n",
      "Square Peripheral: 20\n"
     ]
    }
   ],
   "source": [
    "class SqrArea:\n",
    "    def cal_area(self, side):\n",
    "        return side ** 2\n",
    "\n",
    "\n",
    "class SqrPeri:\n",
    "    def cal_peri(self, side):\n",
    "        return 4 * side\n",
    "\n",
    "\n",
    "class Sqr(SqrArea, SqrPeri):\n",
    "    def __init__(self, side):\n",
    "        self.side = side\n",
    "\n",
    "    def show(self):\n",
    "        area = self.cal_area(self.side)  # Using method from SquareArea\n",
    "        peripheral = self.cal_peri(self.side)  # Using method from Peripheral\n",
    "        print(f\"Square Area: {area}\")\n",
    "        print(f\"Square Peripheral: {peripheral}\")\n",
    "\n",
    "\n",
    "# Example usage:\n",
    "side_value = 5\n",
    "\n",
    "square_instance = Sqr(side_value)\n",
    "square_instance.show()\n"
   ]
  },
  {
   "cell_type": "markdown",
   "metadata": {},
   "source": [
    "Supratim Nag_AIML_Roll 057"
   ]
  }
 ],
 "metadata": {
  "kernelspec": {
   "display_name": "Python 3",
   "language": "python",
   "name": "python3"
  },
  "language_info": {
   "codemirror_mode": {
    "name": "ipython",
    "version": 3
   },
   "file_extension": ".py",
   "mimetype": "text/x-python",
   "name": "python",
   "nbconvert_exporter": "python",
   "pygments_lexer": "ipython3",
   "version": "3.11.3"
  }
 },
 "nbformat": 4,
 "nbformat_minor": 2
}

{
 "cells": [
  {
   "cell_type": "markdown",
   "metadata": {},
   "source": [
    "Assignment: - 08/ Concept of Exception Handling"
   ]
  },
  {
   "cell_type": "markdown",
   "metadata": {},
   "source": [
    " ## Write a Program that prompts user to enter two numbers and displays their sum. Raise an exception and handle it if a non-number value is given as input."
   ]
  },
  {
   "cell_type": "code",
   "execution_count": 4,
   "metadata": {},
   "outputs": [
    {
     "name": "stdout",
     "output_type": "stream",
     "text": [
      "Error: Please enter a valid number.\n",
      "The sum of 5.0 and 6.0 is: 11.0\n"
     ]
    }
   ],
   "source": [
    "def get_number_input(prompt):\n",
    "    while True:\n",
    "        try:\n",
    "            # Try to convert user input to a float\n",
    "            num = float(input(prompt))\n",
    "            return num\n",
    "        except ValueError:\n",
    "            # Handle the exception if the input is not a valid number\n",
    "            print(\"Error: Please enter a valid number.\")\n",
    "\n",
    "def main():\n",
    "    try:\n",
    "        # Get the first number from the user\n",
    "        num1 = get_number_input(\"Enter the first number: \")\n",
    "\n",
    "        # Get the second number from the user\n",
    "        num2 = get_number_input(\"Enter the second number: \")\n",
    "\n",
    "        # Calculate and display the sum\n",
    "        result = num1 + num2\n",
    "        print(f\"The sum of {num1} and {num2} is: {result}\")\n",
    "\n",
    "    except Exception as e:\n",
    "        # Handle any other unexpected exceptions\n",
    "        print(f\"An error occurred: {e}\")\n",
    "\n",
    "if __name__ == \"__main__\":\n",
    "    main()\n"
   ]
  },
  {
   "cell_type": "markdown",
   "metadata": {},
   "source": [
    "Supratim Nag_AIML_Roll 057"
   ]
  },
  {
   "cell_type": "markdown",
   "metadata": {},
   "source": [
    " ## Write a program that accepts date of birth along with other personal details of a person. Throw an exception if an invalid date is entered."
   ]
  },
  {
   "cell_type": "code",
   "execution_count": 5,
   "metadata": {},
   "outputs": [
    {
     "name": "stdout",
     "output_type": "stream",
     "text": [
      "\n",
      "Personal Details:\n",
      "Name: SUPRATIM NAG\n",
      "Date of Birth: 2004-06-05\n",
      "Address: 20/8 OLABIBI TALA LANE\n",
      "Phone: 8420945255\n"
     ]
    }
   ],
   "source": [
    "from datetime import datetime\n",
    "\n",
    "def get_date_of_birth():\n",
    "    while True:\n",
    "        try:\n",
    "            # Prompt the user to enter the date of birth\n",
    "            dob_str = input(\"Enter your date of birth (YYYY-MM-DD): \")\n",
    "\n",
    "            # Convert the input string to a datetime object\n",
    "            dob = datetime.strptime(dob_str, \"%Y-%m-%d\")\n",
    "\n",
    "            # Ensure that the date of birth is not in the future\n",
    "            if dob > datetime.now():\n",
    "                raise ValueError(\"Invalid date of birth. Please enter a date in the past.\")\n",
    "\n",
    "            return dob\n",
    "\n",
    "        except ValueError as e:\n",
    "            # Handle the exception if the input is not a valid date\n",
    "            print(f\"Error: {e}\")\n",
    "\n",
    "def get_personal_details():\n",
    "    # Get other personal details from the user\n",
    "    name = input(\"Enter your name: \")\n",
    "    address = input(\"Enter your address: \")\n",
    "    phone = input(\"Enter your phone number: \")\n",
    "\n",
    "    return name, address, phone\n",
    "\n",
    "def main():\n",
    "    try:\n",
    "        # Get the date of birth\n",
    "        dob = get_date_of_birth()\n",
    "\n",
    "        # Get other personal details\n",
    "        name, address, phone = get_personal_details()\n",
    "\n",
    "        # Display the collected information\n",
    "        print(\"\\nPersonal Details:\")\n",
    "        print(f\"Name: {name}\")\n",
    "        print(f\"Date of Birth: {dob.strftime('%Y-%m-%d')}\")\n",
    "        print(f\"Address: {address}\")\n",
    "        print(f\"Phone: {phone}\")\n",
    "\n",
    "    except Exception as e:\n",
    "        # Handle any other unexpected exceptions\n",
    "        print(f\"An error occurred: {e}\")\n",
    "\n",
    "if __name__ == \"__main__\":\n",
    "    main()\n"
   ]
  },
  {
   "cell_type": "markdown",
   "metadata": {},
   "source": [
    "Supratim Nag_AIML_Roll 057"
   ]
  },
  {
   "cell_type": "markdown",
   "metadata": {},
   "source": [
    " ##  Write a program that finds square root of a number. Throw an exception if a negative number is entered."
   ]
  },
  {
   "cell_type": "code",
   "execution_count": 6,
   "metadata": {},
   "outputs": [
    {
     "name": "stdout",
     "output_type": "stream",
     "text": [
      "The square root of 45.0 is: 6.708203932499369\n"
     ]
    }
   ],
   "source": [
    "import math\n",
    "\n",
    "def get_positive_number():\n",
    "    while True:\n",
    "        try:\n",
    "            # Prompt the user to enter a number\n",
    "            number = float(input(\"Enter a positive number: \"))\n",
    "\n",
    "            # Ensure that the entered number is positive\n",
    "            if number < 0:\n",
    "                raise ValueError(\"Error: Please enter a non-negative number.\")\n",
    "\n",
    "            return number\n",
    "\n",
    "        except ValueError as e:\n",
    "            # Handle the exception if the input is not a valid positive number\n",
    "            print(f\"Error: {e}\")\n",
    "\n",
    "def calculate_square_root(number):\n",
    "    # Calculate and return the square root of the number\n",
    "    return math.sqrt(number)\n",
    "\n",
    "def main():\n",
    "    try:\n",
    "        # Get a positive number from the user\n",
    "        number = get_positive_number()\n",
    "\n",
    "        # Calculate the square root and display the result\n",
    "        result = calculate_square_root(number)\n",
    "        print(f\"The square root of {number} is: {result}\")\n",
    "\n",
    "    except Exception as e:\n",
    "        # Handle any other unexpected exceptions\n",
    "        print(f\"An error occurred: {e}\")\n",
    "\n",
    "if __name__ == \"__main__\":\n",
    "    main()\n"
   ]
  },
  {
   "cell_type": "markdown",
   "metadata": {},
   "source": [
    "Supratim Nag_AIML_Roll 057"
   ]
  }
 ],
 "metadata": {
  "kernelspec": {
   "display_name": "Python 3",
   "language": "python",
   "name": "python3"
  },
  "language_info": {
   "codemirror_mode": {
    "name": "ipython",
    "version": 3
   },
   "file_extension": ".py",
   "mimetype": "text/x-python",
   "name": "python",
   "nbconvert_exporter": "python",
   "pygments_lexer": "ipython3",
   "version": "3.11.3"
  }
 },
 "nbformat": 4,
 "nbformat_minor": 2
}

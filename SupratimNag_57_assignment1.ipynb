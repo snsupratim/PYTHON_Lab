{
 "cells": [
  {
   "cell_type": "markdown",
   "metadata": {},
   "source": [
    "SUPRATIM NAG_57_ASSIGNMENT1"
   ]
  },
  {
   "cell_type": "markdown",
   "metadata": {},
   "source": [
    "A. Write a program to print MCKVIE and Computer Science & Engineering. Apply \\n in your program."
   ]
  },
  {
   "cell_type": "code",
   "execution_count": 1,
   "metadata": {},
   "outputs": [
    {
     "name": "stdout",
     "output_type": "stream",
     "text": [
      "MCKVIE\n",
      "Computer Science &Engineering\n"
     ]
    }
   ],
   "source": [
    "print(\"MCKVIE\\nComputer Science &Engineering\")"
   ]
  },
  {
   "cell_type": "markdown",
   "metadata": {},
   "source": [
    "B.\tWrite a program to find the sum of two numbers, taken as user input. The display pattern should as follow:\n",
    "“The Sum of 5 and 6 is 11”."
   ]
  },
  {
   "cell_type": "code",
   "execution_count": 2,
   "metadata": {},
   "outputs": [
    {
     "name": "stdout",
     "output_type": "stream",
     "text": [
      "the sum of 4 and 6 is 10.\n"
     ]
    }
   ],
   "source": [
    "num1= int(input(\"Enter the first number: \"))\n",
    "num2= int (input(\"Enter the second number:\"))\n",
    "\n",
    "sum_result=num1+num2\n",
    "print(\"the sum of {} and {} is {}.\" .format(num1,num2,sum_result))"
   ]
  },
  {
   "cell_type": "markdown",
   "metadata": {},
   "source": [
    "C.\tWrite a program to Calculate Simple Interest, taking the P, R and T as the user input"
   ]
  },
  {
   "cell_type": "code",
   "execution_count": 7,
   "metadata": {},
   "outputs": [
    {
     "name": "stdout",
     "output_type": "stream",
     "text": [
      " (P) is 1000.0,(R) is 4.0,(T) is 3.0:\n",
      "simple interest: 120.0 \n"
     ]
    }
   ],
   "source": [
    "p=float(input(\"Enter the principal amount (p): \"))\n",
    "r=float(input(\"enter rate of interest (R):\"))\n",
    "t=float(input(\"enter the given time(T):\"))\n",
    "\n",
    "s=(p*r*t)/100\n",
    "print(\" (P) is {},(R) is {},(T) is {}:\".format(p,r,t))\n",
    "print(\"simple interest: {} \".format(s))"
   ]
  },
  {
   "cell_type": "markdown",
   "metadata": {},
   "source": [
    "D.\tConsider the radius of a Circle and write a python program to calculate area and perimeter. "
   ]
  },
  {
   "cell_type": "code",
   "execution_count": 6,
   "metadata": {},
   "outputs": [
    {
     "name": "stdout",
     "output_type": "stream",
     "text": [
      "The radius is:5.0\n",
      "Area of the circle is:78.50\n",
      "perimeter if the circle :31.40\n"
     ]
    }
   ],
   "source": [
    "\n",
    "radius =float(input(\"enter the radius of the circle: \"))\n",
    "area= 3.14*radius**2\n",
    "perimeter=2*3.14*radius\n",
    "print(\"The radius is:{}\".format(radius))\n",
    "print(\"Area of the circle is:{:.2f}\".format(area))\n",
    "print(\"perimeter if the circle :{:.2f}\".format(perimeter))\n"
   ]
  },
  {
   "cell_type": "markdown",
   "metadata": {},
   "source": [
    "\n",
    "E.\tWrite a python program to swap two variables using and without using third variable."
   ]
  },
  {
   "cell_type": "code",
   "execution_count": 11,
   "metadata": {},
   "outputs": [
    {
     "name": "stdout",
     "output_type": "stream",
     "text": [
      "before swapping using a third variable\n",
      " a=3 and b=4:\n",
      "after swapping using a third variable\n",
      " a=4 and b=3:\n",
      "Without third variable\n",
      "before swapping using a third variable\n",
      " a=5 and b=6:\n",
      "after swapping using a third variable\n",
      " x=6 and y=5:\n"
     ]
    }
   ],
   "source": [
    "#using third variable:\n",
    "print(\"using third variable\")\n",
    "a=int(input(\"enter first number'a':\"))\n",
    "b=int(input(\"enter second number'b':\"))\n",
    "print(\"before swapping using a third variable\\n a={} and b={}:\".format(a,b))\n",
    "temp=a\n",
    "a=b\n",
    "b=temp\n",
    "print(\"after swapping using a third variable\\n a={} and b={}:\".format(a,b))\n",
    "#without third variable: \n",
    "print(\"Without third variable\")\n",
    "x=int(input(\"enter first number'x':\"))\n",
    "y=int(input(\"enter second number'y':\"))\n",
    "print(\"before swapping using a third variable\\n a={} and b={}:\".format(x,y))\n",
    "x=x+y\n",
    "y=x-y\n",
    "x=x-y\n",
    "print(\"after swapping using a third variable\\n x={} and y={}:\".format(x,y))\n"
   ]
  },
  {
   "cell_type": "markdown",
   "metadata": {},
   "source": [
    "\n",
    "F.\tWrite a python program to find the area of a triangle using formula, area = √[s × (s – a) × (s – b) × (s – c)], where S is the semi-perimeter and given as s=(a+b+c)/2."
   ]
  },
  {
   "cell_type": "code",
   "execution_count": 14,
   "metadata": {},
   "outputs": [
    {
     "name": "stdout",
     "output_type": "stream",
     "text": [
      "(a) is 4,(b) is 5,(c) is 6\n",
      "Semi-perimeter is 7.5\n",
      "Area of the triangle:9.92\n"
     ]
    }
   ],
   "source": [
    "import math\n",
    "\n",
    "a=int(input(\"enter sides as 'a':\"))\n",
    "b=int(input(\"enter sides as 'b':\"))\n",
    "c=int(input(\"enter sides as 'c':\"))\n",
    "print(\"(a) is {},(b) is {},(c) is {}\".format(a,b,c))\n",
    "\n",
    "#s is semi-perimeter\n",
    "s=(a+b+c)/2\n",
    "print(\"Semi-perimeter is {}\".format(s))\n",
    "\n",
    "#finding the area\n",
    "\n",
    "area=(s*(s-a)*(s-b)*(s-c))**0.5\n",
    "print(\"Area of the triangle:{:.2f}\".format(area))"
   ]
  },
  {
   "cell_type": "markdown",
   "metadata": {},
   "source": []
  }
 ],
 "metadata": {
  "kernelspec": {
   "display_name": "Python 3",
   "language": "python",
   "name": "python3"
  },
  "language_info": {
   "codemirror_mode": {
    "name": "ipython",
    "version": 3
   },
   "file_extension": ".py",
   "mimetype": "text/x-python",
   "name": "python",
   "nbconvert_exporter": "python",
   "pygments_lexer": "ipython3",
   "version": "3.11.3"
  },
  "orig_nbformat": 4
 },
 "nbformat": 4,
 "nbformat_minor": 2
}

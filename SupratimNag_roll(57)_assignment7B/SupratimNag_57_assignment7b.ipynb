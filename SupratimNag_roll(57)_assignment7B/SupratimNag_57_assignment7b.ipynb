{
 "cells": [
  {
   "cell_type": "markdown",
   "metadata": {},
   "source": [
    " ### Assignment 7B: Module in Python"
   ]
  },
  {
   "cell_type": "markdown",
   "metadata": {},
   "source": [
    "## importing modules"
   ]
  },
  {
   "cell_type": "markdown",
   "metadata": {},
   "source": [
    "  Create your own module named ‘words’ which can find the first word or the last word of the given string and also count the number of words present in the string. And also do the following:\n",
    "   (i)    Import the module in your working environment with alias ‘wrd’.\n",
    "    (ii)    Find the first word of the string supplied by you.\n",
    "   (iii)    Find the last word of the string supplied by you.\n",
    "    (iv)    Count the no. of words present in your supplied string."
   ]
  },
  {
   "cell_type": "code",
   "execution_count": 4,
   "id": "94fe45f1",
   "metadata": {},
   "outputs": [
    {
     "name": "stdout",
     "output_type": "stream",
     "text": [
      "the sum of square and qube of n natural number is 5 & 9\n"
     ]
    }
   ],
   "source": [
    "from modules_calculators import square,qube \n",
    "\n",
    "\n",
    "n1=int(input(\"enter a number=\"))\n",
    "sum1=0\n",
    "sum2=0\n",
    "\n",
    "for i in range(n1+1):\n",
    "    sum1 += square(i)\n",
    "    sum2 += qube(i)\n",
    "\n",
    "\n",
    "\n",
    "print(\"the sum of square and qube of n natural number is {} & {}\".format(sum1,sum2))\n"
   ]
  },
  {
   "cell_type": "markdown",
   "metadata": {},
   "source": [
    "Supratim Nag_AIML_Roll 057"
   ]
  },
  {
   "cell_type": "markdown",
   "metadata": {},
   "source": [
    "B.    Write a Python program to create a module Fibonacci containing the function for Fibonacci series, and implement it as a module in a separate program."
   ]
  },
  {
   "cell_type": "code",
   "execution_count": 1,
   "id": "1a35b28a",
   "metadata": {},
   "outputs": [
    {
     "name": "stdout",
     "output_type": "stream",
     "text": [
      "the fibonacci series is : \n",
      "0\n",
      "1\n",
      "1\n",
      "2\n",
      "3\n",
      "5\n",
      "None\n"
     ]
    }
   ],
   "source": [
    "import module_fibanocci as fib\n",
    "\n",
    "\n",
    "n1=int(input(\"enter a range = \"))\n",
    "fibanocci=fib.fibo(n1)\n",
    "print(fibanocci)"
   ]
  },
  {
   "cell_type": "markdown",
   "metadata": {},
   "source": [
    "Supratim Nag_AIML_Roll 057"
   ]
  },
  {
   "cell_type": "markdown",
   "metadata": {},
   "source": [
    "C.    Write a Python program to generate a module calculator containing the functions, square root, square  and cubes and implement this in a separate program to find the sum of squares and cubes of n natural numbers. Include only the required functions from the module."
   ]
  },
  {
   "cell_type": "code",
   "execution_count": 2,
   "id": "43eea543",
   "metadata": {},
   "outputs": [
    {
     "name": "stdout",
     "output_type": "stream",
     "text": [
      "\n",
      "Word Frequency Dictionary:\n",
      "gfrjc: 1\n",
      "first word is G & last word is C\n"
     ]
    }
   ],
   "source": [
    "import module_word as wrd\n",
    "\n",
    "\n",
    "\n",
    "# Input a string from the user\n",
    "input_string = input(\"Enter a string: \")\n",
    "\n",
    "# Create the word frequency dictionary\n",
    "word_frequency_dict =wrd.create_word_frequency_dict(input_string)\n",
    "\n",
    "# Display the word frequency dictionary\n",
    "print(\"\\nWord Frequency Dictionary:\")\n",
    "for words, frequency in word_frequency_dict.items():\n",
    "    print(f\"{words}: {frequency}\")\n",
    "    \n",
    "last=wrd.find_last(input_string)  \n",
    "first=wrd.find_first(input_string) \n",
    "\n",
    "print(\"first word is {} & last word is {}\".format(first,last))\n"
   ]
  },
  {
   "cell_type": "markdown",
   "metadata": {},
   "source": [
    "Supratim Nag_AIML_Roll 057"
   ]
  }
 ],
 "metadata": {
  "kernelspec": {
   "display_name": "Python 3 (ipykernel)",
   "language": "python",
   "name": "python3"
  },
  "language_info": {
   "codemirror_mode": {
    "name": "ipython",
    "version": 3
   },
   "file_extension": ".py",
   "mimetype": "text/x-python",
   "name": "python",
   "nbconvert_exporter": "python",
   "pygments_lexer": "ipython3",
   "version": "3.11.3"
  }
 },
 "nbformat": 4,
 "nbformat_minor": 5
}

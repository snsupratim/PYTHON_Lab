{
 "cells": [
  {
   "cell_type": "markdown",
   "metadata": {},
   "source": [
    "Assignment: - 10/ Concept of Files Handling"
   ]
  },
  {
   "cell_type": "markdown",
   "metadata": {},
   "source": [
    "Question 1: Write a program in python to create a text file and write the text “Welcome to Python”\n",
    "in the file."
   ]
  },
  {
   "cell_type": "code",
   "execution_count": 1,
   "metadata": {},
   "outputs": [
    {
     "name": "stdout",
     "output_type": "stream",
     "text": [
      "Text has been written to the file.\n"
     ]
    }
   ],
   "source": [
    "# Open a file named \"welcome.txt\" in write mode\n",
    "with open('welcome.txt', 'w') as file:\n",
    "    # Write the text \"Welcome to Python\" to the file\n",
    "    file.write('Welcome to Python')\n",
    "\n",
    "print('Text has been written to the file.')\n"
   ]
  },
  {
   "cell_type": "markdown",
   "metadata": {},
   "source": [
    "Supratim Nag_AIML_Roll 057"
   ]
  },
  {
   "cell_type": "markdown",
   "metadata": {},
   "source": [
    "Question 2: Write a program in python to store the first n prime numbers in text file."
   ]
  },
  {
   "cell_type": "code",
   "execution_count": 2,
   "metadata": {},
   "outputs": [
    {
     "name": "stdout",
     "output_type": "stream",
     "text": [
      "15 prime numbers have been written to the file \"prime_numbers.txt\".\n"
     ]
    }
   ],
   "source": [
    "def is_prime(num):\n",
    "    \"\"\"Check if a number is prime.\"\"\"\n",
    "    if num < 2:\n",
    "        return False\n",
    "    for i in range(2, int(num**0.5) + 1):\n",
    "        if num % i == 0:\n",
    "            return False\n",
    "    return True\n",
    "\n",
    "def generate_primes(n):\n",
    "    \"\"\"Generate the first n prime numbers.\"\"\"\n",
    "    primes = []\n",
    "    num = 2\n",
    "    while len(primes) < n:\n",
    "        if is_prime(num):\n",
    "            primes.append(num)\n",
    "        num += 1\n",
    "    return primes\n",
    "\n",
    "def write_primes_to_file(primes, filename):\n",
    "    \"\"\"Write a list of primes to a text file.\"\"\"\n",
    "    with open(filename, 'w') as file:\n",
    "        for prime in primes:\n",
    "            file.write(str(prime) + '\\n')\n",
    "\n",
    "# Get the user input for the number of primes to generate\n",
    "n = int(input(\"Enter the value of n: \"))\n",
    "\n",
    "# Generate the first n prime numbers\n",
    "prime_numbers = generate_primes(n)\n",
    "\n",
    "# Write the prime numbers to the file\n",
    "write_primes_to_file(prime_numbers, 'prime_numbers.txt')\n",
    "\n",
    "print(f'{n} prime numbers have been written to the file \"prime_numbers.txt\".')\n"
   ]
  },
  {
   "cell_type": "markdown",
   "metadata": {},
   "source": [
    "Supratim Nag_AIML_Roll 057"
   ]
  },
  {
   "cell_type": "markdown",
   "metadata": {},
   "source": [
    "Question 3: Write program in Python to store Fibonacci numbers between 0 to n, in a text file."
   ]
  },
  {
   "cell_type": "code",
   "execution_count": 3,
   "metadata": {},
   "outputs": [
    {
     "name": "stdout",
     "output_type": "stream",
     "text": [
      "Fibonacci numbers up to 11 have been written to the file \"fibonacci_numbers.txt\".\n"
     ]
    }
   ],
   "source": [
    "def generate_fibonacci(n):\n",
    "    \"\"\"Generate Fibonacci numbers up to n.\"\"\"\n",
    "    fibonacci_numbers = [0, 1]\n",
    "    while fibonacci_numbers[-1] + fibonacci_numbers[-2] <= n:\n",
    "        fibonacci_numbers.append(fibonacci_numbers[-1] + fibonacci_numbers[-2])\n",
    "    return fibonacci_numbers\n",
    "\n",
    "def write_fibonacci_to_file(fibonacci_numbers, filename):\n",
    "    \"\"\"Write a list of Fibonacci numbers to a text file.\"\"\"\n",
    "    with open(filename, 'w') as file:\n",
    "        for num in fibonacci_numbers:\n",
    "            file.write(str(num) + '\\n')\n",
    "\n",
    "# Get the user input for the upper limit (n) for Fibonacci numbers\n",
    "n = int(input(\"Enter the value of n: \"))\n",
    "\n",
    "# Generate Fibonacci numbers up to n\n",
    "fibonacci_numbers = generate_fibonacci(n)\n",
    "\n",
    "# Write the Fibonacci numbers to the file\n",
    "write_fibonacci_to_file(fibonacci_numbers, 'fibonacci_numbers.txt')\n",
    "\n",
    "print(f'Fibonacci numbers up to {n} have been written to the file \"fibonacci_numbers.txt\".')\n"
   ]
  },
  {
   "cell_type": "markdown",
   "metadata": {},
   "source": [
    "Supratim Nag_AIML_Roll 057"
   ]
  },
  {
   "cell_type": "markdown",
   "metadata": {},
   "source": [
    "Question 4: Write a program in Python to read line(s) of a text file and display the lines."
   ]
  },
  {
   "cell_type": "code",
   "execution_count": 2,
   "metadata": {},
   "outputs": [
    {
     "name": "stdout",
     "output_type": "stream",
     "text": [
      "Welcome to Python\n"
     ]
    }
   ],
   "source": [
    "# Specify the filename to read\n",
    "filename = input(\"Enter the name of the text file: \")\n",
    "\n",
    "# Open the file in read mode\n",
    "try:\n",
    "    with open(filename, 'r') as file:\n",
    "        # Read and display each line in the file\n",
    "        for line in file:\n",
    "            print(line.strip())  # Strip removes leading and trailing whitespaces (including newline characters)\n",
    "except FileNotFoundError:\n",
    "    print(f\"Error: The file '{filename}' could not be found.\")\n",
    "except Exception as e:\n",
    "    print(f\"An error occurred: {e}\")\n"
   ]
  },
  {
   "cell_type": "markdown",
   "metadata": {},
   "source": [
    "Supratim Nag_AIML_Roll 057"
   ]
  },
  {
   "cell_type": "markdown",
   "metadata": {},
   "source": [
    "Question 5: Write a program in Python to find the size of a file."
   ]
  },
  {
   "cell_type": "code",
   "execution_count": 1,
   "metadata": {},
   "outputs": [
    {
     "name": "stdout",
     "output_type": "stream",
     "text": [
      "The size of the file 'welcome.txt' is: 17 bytes\n"
     ]
    }
   ],
   "source": [
    "import os\n",
    "\n",
    "# Specify the filename for which you want to find the size\n",
    "filename = input(\"Enter the name of the file: \")\n",
    "\n",
    "try:\n",
    "    # Get the size of the file in bytes\n",
    "    file_size = os.path.getsize(filename)\n",
    "\n",
    "    # Convert the file size to a human-readable format (e.g., KB, MB, GB)\n",
    "    if file_size < 1024:\n",
    "        size_str = f\"{file_size} bytes\"\n",
    "    elif 1024 <= file_size < 1024 ** 2:\n",
    "        size_str = f\"{file_size / 1024:.2f} KB\"\n",
    "    elif 1024 ** 2 <= file_size < 1024 ** 3:\n",
    "        size_str = f\"{file_size / (1024 ** 2):.2f} MB\"\n",
    "    else:\n",
    "        size_str = f\"{file_size / (1024 ** 3):.2f} GB\"\n",
    "\n",
    "    print(f\"The size of the file '{filename}' is: {size_str}\")\n",
    "except FileNotFoundError:\n",
    "    print(f\"Error: The file '{filename}' could not be found.\")\n",
    "except Exception as e:\n",
    "    print(f\"An error occurred: {e}\")\n"
   ]
  },
  {
   "cell_type": "markdown",
   "metadata": {},
   "source": [
    "Supratim Nag_AIML_Roll 057"
   ]
  }
 ],
 "metadata": {
  "kernelspec": {
   "display_name": "Python 3",
   "language": "python",
   "name": "python3"
  },
  "language_info": {
   "codemirror_mode": {
    "name": "ipython",
    "version": 3
   },
   "file_extension": ".py",
   "mimetype": "text/x-python",
   "name": "python",
   "nbconvert_exporter": "python",
   "pygments_lexer": "ipython3",
   "version": "3.11.3"
  }
 },
 "nbformat": 4,
 "nbformat_minor": 2
}

{
 "cells": [
  {
   "cell_type": "code",
   "execution_count": 2,
   "metadata": {},
   "outputs": [
    {
     "name": "stdout",
     "output_type": "stream",
     "text": [
      "hello my name is ajay\n"
     ]
    }
   ],
   "source": [
    "class person:\n",
    "\n",
    "    def __init__(self,name):\n",
    "        self.name=name\n",
    "\n",
    "    def speak(self):\n",
    "        print(\"hello my name is\",self.name)\n",
    "\n",
    "\n",
    "p=person(\"ajay\")\n",
    "p.speak()        \n",
    "            "
   ]
  },
  {
   "cell_type": "code",
   "execution_count": 3,
   "metadata": {},
   "outputs": [
    {
     "name": "stdout",
     "output_type": "stream",
     "text": [
      "Hello my name is nikhil\n",
      "Hello my name is atul\n"
     ]
    }
   ],
   "source": [
    "class person:\n",
    "    def __init__(self,name):\n",
    "        self.name=name\n",
    "\n",
    "    def speak(self):\n",
    "        print(\"Hello my name is\",self.name)\n",
    "\n",
    "hi=person(\"nikhil\")\n",
    "hii=person(\"atul\")\n",
    "\n",
    "hi.speak()\n",
    "hii.speak()"
   ]
  },
  {
   "cell_type": "code",
   "execution_count": 9,
   "metadata": {},
   "outputs": [
    {
     "name": "stdout",
     "output_type": "stream",
     "text": [
      "dog's name is mammal\n",
      "dog's name is mammal\n",
      "my name is rodger\n",
      "my name is tommy\n"
     ]
    }
   ],
   "source": [
    "class dog:\n",
    "\n",
    "    att1=\"mammal\"\n",
    "\n",
    "    def __init__(self,name):\n",
    "        self.name=name\n",
    "\n",
    "\n",
    "\n",
    "rodger=dog(\"rodger\")\n",
    "tommy=dog(\"tommy\")\n",
    "\n",
    "print(\"dog's name is {}\".format(rodger.__class__.att1))\n",
    "print(\"dog's name is {}\".format(tommy.__class__.att1))\n",
    "\n",
    "print(\"my name is {}\".format(rodger.name))\n",
    "print(\"my name is {}\".format(tommy.name))"
   ]
  }
 ],
 "metadata": {
  "kernelspec": {
   "display_name": "Python 3",
   "language": "python",
   "name": "python3"
  },
  "language_info": {
   "codemirror_mode": {
    "name": "ipython",
    "version": 3
   },
   "file_extension": ".py",
   "mimetype": "text/x-python",
   "name": "python",
   "nbconvert_exporter": "python",
   "pygments_lexer": "ipython3",
   "version": "3.11.3"
  }
 },
 "nbformat": 4,
 "nbformat_minor": 2
}

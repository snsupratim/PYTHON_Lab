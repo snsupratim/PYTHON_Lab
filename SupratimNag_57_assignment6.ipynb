{
 "cells": [
  {
   "cell_type": "markdown",
   "metadata": {},
   "source": [
    "ASSIGNMENT 06: / CONCEPTS OF LISTS,TUPLE & DICTIONARIES."
   ]
  },
  {
   "cell_type": "markdown",
   "metadata": {},
   "source": [
    "A.     Write a python program to find out the largest and smallest element from a 1D and 2D list and remove all the duplicate element from a lists.\n"
   ]
  },
  {
   "cell_type": "code",
   "execution_count": null,
   "metadata": {},
   "outputs": [],
   "source": [
    "# Function to find the largest and smallest elements in a 1D list\n",
    "def find_largest_smallest_1D(arr):\n",
    "    if not arr:\n",
    "        return None, None\n",
    "    largest = smallest = arr[0]\n",
    "    for num in arr:\n",
    "        if num > largest:\n",
    "            largest = num\n",
    "        elif num < smallest:\n",
    "            smallest = num\n",
    "    return largest, smallest\n",
    "\n",
    "# Function to find the largest and smallest elements in a 2D list\n",
    "def find_largest_smallest_2D(arr_2d):\n",
    "    if not arr_2d:\n",
    "        return None, None\n",
    "    flat_list = [num for sublist in arr_2d for num in sublist]\n",
    "    return find_largest_smallest_1D(flat_list)\n",
    "\n",
    "# Function to remove duplicates from a list\n",
    "def remove_duplicates(arr):\n",
    "    return list(set(arr))\n",
    "\n",
    "# Input 1D list from the user\n",
    "input_1D = input(\"Enter a 1D list of numbers separated by spaces: \").split()\n",
    "arr_1D = [int(num) for num in input_1D]\n",
    "\n",
    "# Input 2D list from the user\n",
    "rows = int(input(\"Enter the number of rows for the 2D list: \"))\n",
    "cols = int(input(\"Enter the number of columns for the 2D list: \"))\n",
    "arr_2D = []\n",
    "for i in range(rows):\n",
    "    row = input(f\"Enter row {i + 1} elements separated by spaces: \").split()\n",
    "    arr_2D.append([int(num) for num in row])\n",
    "\n",
    "# Find largest and smallest elements, and remove duplicates\n",
    "largest_1D, smallest_1D = find_largest_smallest_1D(arr_1D)\n",
    "unique_1D = remove_duplicates(arr_1D)\n",
    "\n",
    "largest_2D, smallest_2D = find_largest_smallest_2D(arr_2D)\n",
    "unique_2D = [remove_duplicates(sublist) for sublist in arr_2D]\n",
    "\n",
    "# Display results\n",
    "print(\"\\n1D List:\")\n",
    "print(\"Largest Element:\", largest_1D)\n",
    "print(\"Smallest Element:\", smallest_1D)\n",
    "print(\"List with Duplicates Removed:\", unique_1D)\n",
    "\n",
    "print(\"\\n2D List:\")\n",
    "print(\"Largest Element:\", largest_2D)\n",
    "print(\"Smallest Element:\", smallest_2D)\n",
    "print(\"List with Duplicates Removed:\")\n",
    "for sublist in unique_2D:\n",
    "    print(sublist)\n"
   ]
  },
  {
   "cell_type": "markdown",
   "metadata": {},
   "source": [
    "Supratim Nag_AIML_Roll 057"
   ]
  },
  {
   "cell_type": "markdown",
   "metadata": {},
   "source": [
    "    B. Take a string as input. Form a dictionary which will have each unique word present in the string as key and frequency of the word as value."
   ]
  },
  {
   "cell_type": "code",
   "execution_count": null,
   "metadata": {},
   "outputs": [],
   "source": [
    "# Function to create a word frequency dictionary from a string\n",
    "def create_word_frequency_dict(input_string):\n",
    "    # Split the input string into words\n",
    "    words = input_string.split()\n",
    "\n",
    "    # Initialize an empty dictionary to store word frequencies\n",
    "    word_freq_dict = {}\n",
    "\n",
    "    # Iterate through the words\n",
    "    for word in words:\n",
    "        # Remove punctuation and convert to lowercase for uniformity\n",
    "        word = word.strip('.,!?()[]{}\":;')\n",
    "        word = word.lower()\n",
    "\n",
    "        # Check if the word is already in the dictionary\n",
    "        if word in word_freq_dict:\n",
    "            # Increment the word's frequency by 1\n",
    "            word_freq_dict[word] += 1\n",
    "        else:\n",
    "            # Add the word to the dictionary with a frequency of 1\n",
    "            word_freq_dict[word] = 1\n",
    "\n",
    "    return word_freq_dict\n",
    "\n",
    "# Input a string from the user\n",
    "input_string = input(\"Enter a string: \")\n",
    "\n",
    "# Create the word frequency dictionary\n",
    "word_frequency_dict = create_word_frequency_dict(input_string)\n",
    "\n",
    "# Display the word frequency dictionary\n",
    "print(\"\\nWord Frequency Dictionary:\")\n",
    "for word, frequency in word_frequency_dict.items():\n",
    "    print(f\"{word}: {frequency}\")\n"
   ]
  },
  {
   "cell_type": "markdown",
   "metadata": {},
   "source": [
    "Supratim Nag_AIML_Roll 057"
   ]
  },
  {
   "cell_type": "markdown",
   "metadata": {},
   "source": []
  },
  {
   "cell_type": "markdown",
   "metadata": {},
   "source": [
    "\n",
    "C.     Write a python program to get maximum of Nth column from tuple list."
   ]
  },
  {
   "cell_type": "code",
   "execution_count": null,
   "metadata": {},
   "outputs": [],
   "source": [
    "# Function to get the maximum value from the Nth column of a list of tuples\n",
    "def get_max_from_nth_column(tuple_list, n):\n",
    "    if not tuple_list or n < 0 or n >= len(tuple_list[0]):\n",
    "        return None\n",
    "\n",
    "    max_value = None\n",
    "\n",
    "    for tuple_item in tuple_list:\n",
    "        if len(tuple_item) > n:\n",
    "            value = tuple_item[n]\n",
    "            if max_value is None or value > max_value:\n",
    "                max_value = value\n",
    "\n",
    "    return max_value\n",
    "\n",
    "# Example list of tuples\n",
    "tuple_list = [(1, 5, 3), (2, 8, 4), (3, 2, 7), (4, 9, 1)]\n",
    "\n",
    "# Specify the column (N) from which you want to find the maximum value\n",
    "N = 1  # Change this to the desired column number (0-indexed)\n",
    "\n",
    "# Get the maximum value from the specified column\n",
    "max_value = get_max_from_nth_column(tuple_list, N)\n",
    "\n",
    "if max_value is not None:\n",
    "    print(f\"The maximum value in column {N} is: {max_value}\")\n",
    "else:\n",
    "    print(f\"Invalid input. Please check the column index.\")\n"
   ]
  },
  {
   "cell_type": "markdown",
   "metadata": {},
   "source": [
    "Supratim Nag_AIML_Roll 057"
   ]
  },
  {
   "cell_type": "markdown",
   "metadata": {},
   "source": [
    "\n",
    "D.     Write a Python program to consider a two-dimensional matrix, that can be represented in Python row-wise. as a list of lists: each inner list represents one row of the matrix. For instance, the matrix                    \n",
    "1  2  3\n",
    "4  5  6\n",
    "\n",
    "\n",
    "would be represented as [[1,2,3],[4,5,6]].Take user input for the\n",
    "matrix"
   ]
  },
  {
   "cell_type": "code",
   "execution_count": 10,
   "metadata": {},
   "outputs": [
    {
     "name": "stdout",
     "output_type": "stream",
     "text": [
      "\n",
      "Matrix:\n",
      "1 2 3 \n",
      "2 3 4 \n"
     ]
    }
   ],
   "source": [
    "# Function to create a 2D matrix from user input\n",
    "def create_matrix(rows, cols):\n",
    "    matrix = []\n",
    "    for i in range(rows):\n",
    "        row = []\n",
    "        for j in range(cols):\n",
    "            element = int(input(f\"Enter element at row {i + 1}, column {j + 1}: \"))\n",
    "            row.append(element)\n",
    "        matrix.append(row)\n",
    "    return matrix\n",
    "\n",
    "# Function to print the matrix\n",
    "def print_matrix(matrix):\n",
    "    for row in matrix:\n",
    "        for element in row:\n",
    "            print(element, end=' ')\n",
    "        print()  # Move to the next line for the next row\n",
    "\n",
    "# Input the number of rows and columns for the matrix\n",
    "rows = int(input(\"Enter the number of rows: \"))\n",
    "cols = int(input(\"Enter the number of columns: \"))\n",
    "\n",
    "# Create the matrix from user input\n",
    "matrix = create_matrix(rows, cols)\n",
    "\n",
    "# Print the matrix\n",
    "print(\"\\nMatrix:\")\n",
    "print_matrix(matrix)\n"
   ]
  },
  {
   "cell_type": "markdown",
   "metadata": {},
   "source": [
    "Supratim Nag_AIML_Roll 057"
   ]
  },
  {
   "cell_type": "markdown",
   "metadata": {},
   "source": [
    "E.      Given a matrix M of MxN write a function snake that accepts a matrix M and returns a list which\n",
    "contains elements in the snake pattern of matrix M. (See the explanation to know what is snake pattern).\n",
    "\n",
    "Input: \n",
    "mat[ ][ ]=    {1, 2, 3},\n",
    "              {4,5, 6},                              Output: 1 2 3 6 5 4 7 8 9\n",
    "            {7,8,9}"
   ]
  },
  {
   "cell_type": "code",
   "execution_count": 1,
   "metadata": {},
   "outputs": [
    {
     "name": "stdout",
     "output_type": "stream",
     "text": [
      "Snake Pattern Elements:\n",
      "[1, 2, 3, 6, 5, 4, 7, 8, 9, 12, 11, 10]\n"
     ]
    }
   ],
   "source": [
    "def snake(matrix):\n",
    "    if not matrix:\n",
    "        return []\n",
    "\n",
    "    rows, cols = len(matrix), len(matrix[0])\n",
    "    result = []\n",
    "\n",
    "    for i in range(rows):\n",
    "        if i % 2 == 0:\n",
    "            for j in range(cols):\n",
    "                result.append(matrix[i][j])\n",
    "        else:\n",
    "            for j in range(cols - 1, -1, -1):\n",
    "                result.append(matrix[i][j])\n",
    "\n",
    "    return result\n",
    "\n",
    "# Example matrix\n",
    "matrix = [\n",
    "    [1, 2, 3],\n",
    "    [4, 5, 6],\n",
    "    [7, 8, 9],\n",
    "    [10,11,12]\n",
    "]\n",
    "\n",
    "# Get the snake pattern elements\n",
    "snake_elements = snake(matrix)\n",
    "\n",
    "# Print the result\n",
    "print(\"Snake Pattern Elements:\")\n",
    "print(snake_elements)\n"
   ]
  },
  {
   "cell_type": "markdown",
   "metadata": {},
   "source": [
    "Supratim Nag_AIML_Roll 057"
   ]
  }
 ],
 "metadata": {
  "kernelspec": {
   "display_name": "Python 3",
   "language": "python",
   "name": "python3"
  },
  "language_info": {
   "codemirror_mode": {
    "name": "ipython",
    "version": 3
   },
   "file_extension": ".py",
   "mimetype": "text/x-python",
   "name": "python",
   "nbconvert_exporter": "python",
   "pygments_lexer": "ipython3",
   "version": "3.11.3"
  }
 },
 "nbformat": 4,
 "nbformat_minor": 2
}

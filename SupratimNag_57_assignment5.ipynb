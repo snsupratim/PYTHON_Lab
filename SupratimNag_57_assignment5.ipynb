{
 "cells": [
  {
   "cell_type": "markdown",
   "metadata": {},
   "source": [
    "Assignment: - 05/Concept of String Manipulation"
   ]
  },
  {
   "cell_type": "markdown",
   "metadata": {},
   "source": [
    "A.    Write a program that accepts a sentence and calculate the number of upper-case letters and lower-case letters.\n",
    "Input Format: The first line of the input contains a statement.\n",
    "Output Format: Print the number of upper case and lower case respectively.\n",
    "Example: Input: Hello world!      Output: 1 9"
   ]
  },
  {
   "cell_type": "code",
   "execution_count": 1,
   "metadata": {},
   "outputs": [
    {
     "name": "stdout",
     "output_type": "stream",
     "text": [
      "1 11\n"
     ]
    }
   ],
   "source": [
    "\n",
    "sentence = input(\"Enter a sentence: \")\n",
    "\n",
    "uppercase_count = 0\n",
    "lowercase_count = 0\n",
    "\n",
    "for char in sentence:\n",
    "\n",
    "    if char.isupper():\n",
    "        uppercase_count += 1\n",
    "\n",
    "    elif char.islower():\n",
    "        lowercase_count += 1\n",
    "\n",
    "print(uppercase_count, lowercase_count)\n"
   ]
  },
  {
   "cell_type": "markdown",
   "metadata": {},
   "source": [
    "Supratim Nag_AIML_Roll 057"
   ]
  },
  {
   "cell_type": "markdown",
   "metadata": {},
   "source": [
    "\n",
    "B.    Write a program to show all the common words between two strings."
   ]
  },
  {
   "cell_type": "code",
   "execution_count": 2,
   "metadata": {},
   "outputs": [
    {
     "name": "stdout",
     "output_type": "stream",
     "text": [
      "No common words found.\n"
     ]
    }
   ],
   "source": [
    "# Function to find common words between two strings\n",
    "def find_common_words(string1, string2):\n",
    "    # Split both strings into lists of words\n",
    "    words1 = string1.split()\n",
    "    words2 = string2.split()\n",
    "    \n",
    "    # Convert both lists to sets for efficient intersection\n",
    "    set1 = set(words1)\n",
    "    set2 = set(words2)\n",
    "    \n",
    "    # Find the common words using set intersection\n",
    "    common_words = set1.intersection(set2)\n",
    "    \n",
    "    return list(common_words)\n",
    "\n",
    "# Input two strings from the user\n",
    "string1 = input(\"Enter the first string: \")\n",
    "string2 = input(\"Enter the second string: \")\n",
    "\n",
    "# Find and print the common words\n",
    "common_words = find_common_words(string1, string2)\n",
    "\n",
    "if common_words:\n",
    "    print(\"Common words:\", common_words)\n",
    "else:\n",
    "    print(\"No common words found.\")\n"
   ]
  },
  {
   "cell_type": "markdown",
   "metadata": {},
   "source": [
    "Supratim Nag_AIML_Roll 057"
   ]
  },
  {
   "cell_type": "markdown",
   "metadata": {},
   "source": [
    "C.    Write a program that accepts sequence of lines as input and prints all the lines after making all characters in the sentence capitalized.\n",
    "Input Format: The first line of the input contains a number n which represents the number of lines. From the second line there are sentences that are to be converted. Each statement comes in a new line\n",
    "Output Format: Display the sentence with all the words in capital letter.\n",
    "Example:\n",
    "Input: 1\n",
    "Hello world Practice makes perfect\n",
    "Output: HELLO WORLD PRACTICE MAKES PERFECT"
   ]
  },
  {
   "cell_type": "code",
   "execution_count": 4,
   "metadata": {},
   "outputs": [
    {
     "name": "stdout",
     "output_type": "stream",
     "text": [
      "EGR GR\n"
     ]
    }
   ],
   "source": [
    "# Input the number of lines\n",
    "n = int(input(\"Enter the number of lines: \"))\n",
    "\n",
    "# Initialize an empty list to store the lines\n",
    "lines = []\n",
    "\n",
    "# Read the lines and capitalize them\n",
    "for i in range(n):\n",
    "    line = input(\"Enter a sentence: \")\n",
    "    capitalized_line = line.upper()\n",
    "    lines.append(capitalized_line)\n",
    "\n",
    "# Print the capitalized lines\n",
    "for line in lines:\n",
    "    print(line)\n"
   ]
  },
  {
   "cell_type": "markdown",
   "metadata": {},
   "source": [
    "Supratim Nag_AIML_Roll 057"
   ]
  },
  {
   "cell_type": "markdown",
   "metadata": {},
   "source": [
    "D.    Write a program that accepts a comma-separated sequence of words as input and prints the words in a comma-separated sequence after sorting them alphabetically.\n",
    "Input Format: The first line of input contains words separated by the comma.\n",
    "Output Format: Print the sorted words separated by the comma.\n",
    "Example:\n",
    " Input: without, hello, bag, world\n",
    "Output: bag, hello, without, world"
   ]
  },
  {
   "cell_type": "code",
   "execution_count": 5,
   "metadata": {},
   "outputs": [
    {
     "name": "stdout",
     "output_type": "stream",
     "text": [
      "hello,bk,sfbsig,seges\n"
     ]
    }
   ],
   "source": [
    "# Input the comma-separated sequence of words\n",
    "input_string = input(\"Enter a comma-separated sequence of words: \")\n",
    "\n",
    "# Split the input string into a list of words\n",
    "words = input_string.split(', ')\n",
    "\n",
    "# Sort the words alphabetically\n",
    "sorted_words = sorted(words)\n",
    "\n",
    "# Join the sorted words back into a comma-separated string\n",
    "sorted_string = ', '.join(sorted_words)\n",
    "\n",
    "# Print the sorted string\n",
    "print(sorted_string)\n"
   ]
  },
  {
   "cell_type": "markdown",
   "metadata": {},
   "source": [
    "Supratim Nag_AIML_Roll 057\n"
   ]
  },
  {
   "cell_type": "markdown",
   "metadata": {},
   "source": [
    "E.    If we have some email addresses in the \"username@companyname.com\" format, please write program to print the company name of a given email address. Both usernames and company names are composed of letters only.\n",
    "Input Format: The first line of the input contains an email address.\n",
    "Output Format: Print the company name in single line.\n",
    "Example;\n",
    "Input: john@google.com\n",
    "Output: google"
   ]
  },
  {
   "cell_type": "code",
   "execution_count": 6,
   "metadata": {},
   "outputs": [
    {
     "name": "stdout",
     "output_type": "stream",
     "text": [
      "official\n"
     ]
    }
   ],
   "source": [
    "# Input the email address\n",
    "email_address = input(\"Enter an email address: \")\n",
    "\n",
    "# Split the email address at the \"@\" symbol\n",
    "parts = email_address.split('@')\n",
    "\n",
    "# Check if the email address is in the correct format\n",
    "if len(parts) == 2:\n",
    "    # Extract and print the company name\n",
    "    company_name = parts[1].split('.')[0]\n",
    "    print(company_name)\n",
    "else:\n",
    "    print(\"Invalid email address format\")\n"
   ]
  },
  {
   "cell_type": "markdown",
   "metadata": {},
   "source": [
    "Supratim Nag_AIML_Roll 057"
   ]
  }
 ],
 "metadata": {
  "kernelspec": {
   "display_name": "Python 3",
   "language": "python",
   "name": "python3"
  },
  "language_info": {
   "codemirror_mode": {
    "name": "ipython",
    "version": 3
   },
   "file_extension": ".py",
   "mimetype": "text/x-python",
   "name": "python",
   "nbconvert_exporter": "python",
   "pygments_lexer": "ipython3",
   "version": "3.11.3"
  }
 },
 "nbformat": 4,
 "nbformat_minor": 2
}

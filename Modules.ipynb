{
 "cells": [
  {
   "cell_type": "markdown",
   "metadata": {},
   "source": [
    " ### Assignment 7B: Module in Python"
   ]
  },
  {
   "cell_type": "markdown",
   "metadata": {},
   "source": [
    "## modules"
   ]
  },
  {
   "cell_type": "markdown",
   "metadata": {},
   "source": [
    "  Create your own module named ‘words’ which can find the first word or the last word of the given string and also count the number of words present in the string. And also do the following:\n",
    "   (i)    Import the module in your working environment with alias ‘wrd’.\n",
    "    (ii)    Find the first word of the string supplied by you.\n",
    "   (iii)    Find the last word of the string supplied by you.\n",
    "    (iv)    Count the no. of words present in your supplied string."
   ]
  },
  {
   "cell_type": "code",
   "execution_count": null,
   "metadata": {},
   "outputs": [],
   "source": [
    "# Function to create a word frequency dictionary from a string\n",
    "def create_word_frequency_dict(input_string):\n",
    "    # Split the input string into words\n",
    "    words = input_string.split()\n",
    "\n",
    "    # Initialize an empty dictionary to store word frequencies\n",
    "    word_freq_dict = {}\n",
    "\n",
    "    # Iterate through the words\n",
    "    for word in words:\n",
    "        # Remove punctuation and convert to lowercase for uniformity\n",
    "        word = word.strip('.,!?()[]{}\":;')\n",
    "        word = word.lower()\n",
    "\n",
    "        # Check if the word is already in the dictionary\n",
    "        if word in word_freq_dict:\n",
    "            # Increment the word's frequency by 1\n",
    "            word_freq_dict[word] += 1\n",
    "        else:\n",
    "            # Add the word to the dictionary with a frequency of 1\n",
    "            word_freq_dict[word] = 1\n",
    "\n",
    "    return word_freq_dict\n",
    "\n",
    "\n",
    "def find_first(input_string):\n",
    "    return input_string[0]\n",
    "\n",
    "\n",
    "def find_last(input_string):\n",
    "    return input_string[-1]\n"
   ]
  },
  {
   "cell_type": "markdown",
   "metadata": {},
   "source": [
    "Supratim Nag_AIML_Roll 057"
   ]
  },
  {
   "cell_type": "markdown",
   "metadata": {},
   "source": [
    "B.    Write a Python program to create a module Fibonacci containing the function for Fibonacci series, and implement it as a module in a separate program."
   ]
  },
  {
   "cell_type": "code",
   "execution_count": null,
   "metadata": {},
   "outputs": [],
   "source": [
    "def fibo(term):\n",
    "    print(\"the fibonacci series is : \")\n",
    "    n1,n2=0,1\n",
    "    count=0\n",
    "    \n",
    "    while count<term:\n",
    "        print(n1)\n",
    "        nth=n1+n2\n",
    "        n1=n2\n",
    "        n2=nth\n",
    "        count+=1"
   ]
  },
  {
   "cell_type": "markdown",
   "metadata": {},
   "source": [
    "Supratim Nag_AIML_Roll 057"
   ]
  },
  {
   "cell_type": "markdown",
   "metadata": {},
   "source": [
    "C.    Write a Python program to generate a module calculator containing the functions, square root, square  and cubes and implement this in a separate program to find the sum of squares and cubes of n natural numbers. Include only the required functions from the module."
   ]
  },
  {
   "cell_type": "code",
   "execution_count": null,
   "metadata": {},
   "outputs": [],
   "source": [
    "def add(a,b):\n",
    "    return a+b\n",
    "\n",
    "def sub(a,b):\n",
    "    return a-b\n",
    "\n",
    "def mult(a,b):\n",
    "    return a*b\n",
    "\n",
    "def div(a,b):\n",
    "    return a/b\n",
    "\n",
    "def square(a):\n",
    "    return a*a\n",
    "\n",
    "def qube(a):\n",
    "    return a*a*a\n",
    "\n",
    "def sqrtr(a):\n",
    "    return a**0.5\n"
   ]
  },
  {
   "cell_type": "markdown",
   "metadata": {},
   "source": [
    "Supratim Nag_AIML_Roll 057"
   ]
  }
 ],
 "metadata": {
  "language_info": {
   "name": "python"
  }
 },
 "nbformat": 4,
 "nbformat_minor": 2
}

{
 "cells": [
  {
   "cell_type": "markdown",
   "metadata": {},
   "source": [
    "SUPRATIM NAG_57_ASSIGNMENT2"
   ]
  },
  {
   "cell_type": "markdown",
   "metadata": {},
   "source": [
    "A. Write a python program to find the greatest among three numbers."
   ]
  },
  {
   "cell_type": "code",
   "execution_count": 3,
   "metadata": {},
   "outputs": [
    {
     "name": "stdout",
     "output_type": "stream",
     "text": [
      "\n",
      " a=67\n",
      " b=45\n",
      " c=23\n",
      "67 is greatest\n"
     ]
    }
   ],
   "source": [
    "\n",
    "a=int(input(\"enter a number = \"))\n",
    "b=int(input(\"enter a number = \"))\n",
    "c=int(input(\"enter a number = \"))\n",
    "print(\"\\n a={}\\n b={}\\n c={}\".format(a,b,c))\n",
    "\n",
    "if (a>b)and(a>c) :\n",
    "    print(\"{} is greatest\".format(a))\n",
    "elif (b>c)and(b>a) :\n",
    "    print(\"{} is the greatest\".format(b))\n",
    "else :\n",
    "    print(\"{} is the greatest\".format(c)) "
   ]
  },
  {
   "cell_type": "markdown",
   "metadata": {},
   "source": [
    "B. Write a python program to check whether a number is even or odd"
   ]
  },
  {
   "cell_type": "code",
   "execution_count": 4,
   "metadata": {},
   "outputs": [
    {
     "name": "stdout",
     "output_type": "stream",
     "text": [
      "4 is even\n"
     ]
    }
   ],
   "source": [
    "num=int(input(\"enter a number = \"))\n",
    "\n",
    "if num%2==0 :\n",
    "    print(\"{} is even\".format(num))\n",
    "else :\n",
    "    print(\"{} is odd\".format(num))"
   ]
  },
  {
   "cell_type": "markdown",
   "metadata": {},
   "source": [
    "C. Write a python program to check whether a year is Leap Year."
   ]
  },
  {
   "cell_type": "code",
   "execution_count": 5,
   "metadata": {},
   "outputs": [
    {
     "name": "stdout",
     "output_type": "stream",
     "text": [
      "1900 is not a leap year\n"
     ]
    }
   ],
   "source": [
    "year=int(input(\"enter the year=\"))\n",
    "\n",
    "if (year%4==0)and(year%100!=0) :\n",
    "    print(\"{} is leap year\".format(year))\n",
    "elif year%400==0 :\n",
    "    print(\"{} is leap year\".format(year))\n",
    "else :\n",
    "    print(\"{} is not a leap year\".format(year)) "
   ]
  },
  {
   "cell_type": "markdown",
   "metadata": {},
   "source": [
    "\n",
    "D. In general, an equation of the form ax^2+ bx+c=0 is known as quadratic equation. Accept the values of a, b, and c from the user and write a python program to calculate the roots of the given quadratic equation. Also determine whether the roots are real, equal or imaginary."
   ]
  },
  {
   "cell_type": "code",
   "execution_count": 6,
   "metadata": {},
   "outputs": [
    {
     "name": "stdout",
     "output_type": "stream",
     "text": [
      "no real root\n"
     ]
    }
   ],
   "source": [
    "a=int(input(\"enter 'a' : \"))\n",
    "b=int(input(\"enter 'b, : \"))\n",
    "c=int(input(\"enter 'c' : \"))\n",
    "\n",
    "if a!=0:\n",
    "    d=b**2-4*a*c\n",
    "    if d<0 :\n",
    "        print(\"no real root\")\n",
    "    elif d==0 :\n",
    "        r1=-b/(2*a)\n",
    "        print(\"{} roots are eqaul and real\".format(r1))\n",
    "    else:\n",
    "         r1=((-b+(d**0.5))/(2*a))\n",
    "         r2=((-b-(d**0.5))/(2*a))\n",
    "         print(\"{} & {} are two roots\".format(r1,r2))       \n",
    "else :\n",
    "    print(\"not a quadratic equation\")  "
   ]
  }
 ],
 "metadata": {
  "kernelspec": {
   "display_name": "Python 3",
   "language": "python",
   "name": "python3"
  },
  "language_info": {
   "codemirror_mode": {
    "name": "ipython",
    "version": 3
   },
   "file_extension": ".py",
   "mimetype": "text/x-python",
   "name": "python",
   "nbconvert_exporter": "python",
   "pygments_lexer": "ipython3",
   "version": "3.11.3"
  },
  "orig_nbformat": 4
 },
 "nbformat": 4,
 "nbformat_minor": 2
}
